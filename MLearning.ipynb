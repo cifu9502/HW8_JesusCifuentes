{
 "metadata": {
  "name": ""
 },
 "nbformat": 3,
 "nbformat_minor": 0,
 "worksheets": [
  {
   "cells": [
    {
     "cell_type": "markdown",
     "metadata": {},
     "source": [
      "Descipci\u00f3n del modelo:\n",
      "El modelo es en s\u00ed bastante sencillo. Lo primero, es traducir todas las variables en cuesti\u00f3n a variables num\u00e9ricas, de esta forma,  podemos interpretar las fechas seg\u00fan el d\u00eda de la semana, y los eventos como la lluvia, como una variable que toma valores 0 o 1. \n",
      "\n",
      "Luego de esto lo que sigue es sacar la covarianza de conteo_ordenes con respecto a cada una de las variables en cuesti\u00f3n. Esto nos dar\u00e1 una idea de cuales son las variables m\u00e1s importantes en nuestro modelo num\u00e9rico. Estas son en orden de importancia: (Ver correlaciones en el c\u00f3digo)\n",
      "\n",
      "\n",
      "-Conteo_restaurantes \n",
      "\n",
      "-Temperatura m\u00e1xima  \n",
      "\n",
      "-Temperatura m\u00ednima  \n",
      "\n",
      "-Nieve  \n",
      "\n",
      "-Cod_calendario  \n",
      "\n",
      "-D\u00eda de la semana\n",
      "\n",
      "Las dem\u00e1s variables parecen ser despreciables. Por supuesto que el hecho de que algunas estas variables esten relacionadas entre s\u00ed nos trae ciertos erros, sin embargo trataremos de despreciar ese hecho. \n",
      "\n",
      "Luego de esto, la idea b\u00e1sica es que si dos d\u00edas tienen variables muy parcidas( conteo_restarantes, temperatura, etc..) deber\u00edan tener un conteo_ordenes similar. Esto nos lleva a pensar en una aproximaci\u00f3n nearest neighboors donde obviamente cuando se mida la distancia entre dos eventos, primen las variables que tengan mayor convarianza. Este modelo se implementa a continuaci\u00f3n."
     ]
    },
    {
     "cell_type": "code",
     "collapsed": false,
     "input": [],
     "language": "python",
     "metadata": {},
     "outputs": [],
     "prompt_number": 162
    },
    {
     "cell_type": "markdown",
     "metadata": {},
     "source": [
      "\n",
      "\n",
      "Respuesta a preguntas propuestas:\n",
      "\n",
      "\n",
      "1- \u00bfQu\u00e9 otros datos pueden ayudarlo a mejorar su predicci\u00f3n? : Ser\u00eda bueno tener un valor promedio de la temperatura en el d\u00eda en vez de valores m\u00ednimos y m\u00e1ximos  ; tambi\u00e9n si se conociera el lugar en que se desarrolla, servir\u00eda conocer cierto tipo de fechas: festividades, vacaciones .... \n",
      "\n",
      "\n",
      "2- El jueves es el d\u00eda con mayor n\u00famero de ordenes en promedio\n",
      "\n",
      "\n",
      "3- El martes es el d\u00eda con menor n\u00famero de ordenes (ver gr\u00e1fica de d\u00edas vs n\u00famero de ordenes)"
     ]
    },
    {
     "cell_type": "code",
     "collapsed": false,
     "input": [
      "%pylab inline \n",
      "import datetime\n",
      "import time\n",
      "\n",
      "s = 'training_set.csv'\n",
      "infile = open(s, 'r')\n",
      "text = infile.readlines()"
     ],
     "language": "python",
     "metadata": {},
     "outputs": [
      {
       "output_type": "stream",
       "stream": "stdout",
       "text": [
        "Populating the interactive namespace from numpy and matplotlib\n"
       ]
      },
      {
       "output_type": "stream",
       "stream": "stderr",
       "text": [
        "WARNING: pylab import has clobbered these variables: ['text', 'diff']\n",
        "`%pylab --no-import-all` prevents importing * from pylab and numpy\n"
       ]
      }
     ],
     "prompt_number": 163
    },
    {
     "cell_type": "code",
     "collapsed": false,
     "input": [
      "#ReadData sera la funcion encargada de leer el texto ingresado y transformarla en un array de np\n",
      "#La forma del array estar\u00e1 distribuida en columnas de la siguiente manera:\n",
      "# DiaDeLaSemana   cod_calendario   conteo_ordenes(en caso de existir)\tconteo_restaurantes\t temp_max\ttemp_min\tprecipitacion  \n",
      "#  LLuvia   Nieve    Niebla    Tormenta\n",
      "#Lluvia, Nieve,Nibla y tormenta tendran como posibles valores: 1 en caso de presentarse el evento, 0 en el caso contrario\n",
      "# Dia de la semana se representara como un numero del 0 al 6, debido al tipo de c\u00f3digo implementado se va a empezar el 0 en el \n",
      "#d\u00eda s\u00e1bado y terminara el d\u00eda viernes que se tomar\u00e1 como el 6\n",
      "\n",
      "\n",
      "def readData(text):\n",
      "    #Matriz donde se guardan los datos\n",
      "    data = zeros((len(text[1:]), len(text[1].split(','))+3))\n",
      "    \n",
      "    for i in range(len(text[1:])):\n",
      "        \n",
      "        x = text[i+1] \n",
      "        a = x.split(',')\n",
      "        a[1:-1]= map(float, a[1:-1])\n",
      "        #Se busca las palabras lluvia, nieve ,... etc. en la columna de eventos, de existir se asigna 1 a la variable correspondiente\n",
      "        a[-1] = a[-1].split('\\n')[0] \n",
      "        Lluvia = a[-1].find('Lluvia')\n",
      "        Nieve = a[-1].find('Nieve')\n",
      "        Niebla = a[-1].find('Niebla')\n",
      "        Tormenta = a[-1].find('Tormenta')\n",
      "        \n",
      "        a[-1] = (Lluvia != -1)*1\n",
      "        a.append((Nieve != -1)*1)\n",
      "        a.append((Niebla != -1)*1)\n",
      "        a.append((Tormenta != -1)*1)\n",
      "        \n",
      "        #Se utiliza la fecha para encontrar el dia de la semana \n",
      "        a[0] = a[0].replace('-','/')\n",
      "        day, month, year = (int(x) for x in a[0].split('/')) \n",
      "        ans = datetime.date(day, month, year)\n",
      "        ans = ans.strftime(\"%A\")\n",
      "        #print time.strptime(ans[:3], '%a').tm_wday\n",
      "        a[0] = time.strptime(ans[:3], '%a').tm_wday\n",
      "        a[0] = (a[0]+2)%7\n",
      "        #if((a[0] >= 2) & (a[0]<=4)):\n",
      "        #    a[0] = 1\n",
      "        #else :\n",
      "        #    a[0] = 0\n",
      "            \n",
      "        data[i] = a\n",
      "    return data"
     ],
     "language": "python",
     "metadata": {},
     "outputs": [],
     "prompt_number": 164
    },
    {
     "cell_type": "code",
     "collapsed": false,
     "input": [
      "data = readData(text)\n",
      "data"
     ],
     "language": "python",
     "metadata": {},
     "outputs": [
      {
       "metadata": {},
       "output_type": "pyout",
       "prompt_number": 165,
       "text": [
        "array([[   0.,    0.,  165., ...,    0.,    0.,    0.],\n",
        "       [   1.,    1.,  138., ...,    0.,    0.,    1.],\n",
        "       [   2.,    1.,  127., ...,    0.,    0.,    0.],\n",
        "       ..., \n",
        "       [   5.,    1.,  570., ...,    0.,    0.,    0.],\n",
        "       [   6.,    1.,  615., ...,    1.,    0.,    0.],\n",
        "       [   0.,    1.,  369., ...,    0.,    0.,    0.]])"
       ]
      }
     ],
     "prompt_number": 165
    },
    {
     "cell_type": "code",
     "collapsed": false,
     "input": [
      "#Se carga el data del train y se transforma de manera que la columna conteo_ordenes sea la ultima. Se guarda en dataTrain\n",
      "data = readData(text)\n",
      "dataTrain = zeros(( len(data[:,1]),len(data[1])))\n",
      "dataTrain[:,0:2] =  data[:,0:2]\n",
      "dataTrain[:,2:-1] = data[:, 3:]\n",
      "dataTrain[:,-1] = data[:,2]\n",
      "dataTrain"
     ],
     "language": "python",
     "metadata": {},
     "outputs": [
      {
       "metadata": {},
       "output_type": "pyout",
       "prompt_number": 166,
       "text": [
        "array([[   0.,    0.,    6., ...,    0.,    0.,  165.],\n",
        "       [   1.,    1.,    8., ...,    0.,    1.,  138.],\n",
        "       [   2.,    1.,    9., ...,    0.,    0.,  127.],\n",
        "       ..., \n",
        "       [   5.,    1.,   19., ...,    0.,    0.,  570.],\n",
        "       [   6.,    1.,   22., ...,    0.,    0.,  615.],\n",
        "       [   0.,    1.,   16., ...,    0.,    0.,  369.]])"
       ]
      }
     ],
     "prompt_number": 166
    },
    {
     "cell_type": "code",
     "collapsed": false,
     "input": [
      "#Se hallan la matrices de covarianzas y correlaciones\n",
      "data2 = transpose(dataTrain)\n",
      "cova = cov(data2)\n",
      "corr = corrcoef(data2)"
     ],
     "language": "python",
     "metadata": {},
     "outputs": [],
     "prompt_number": 167
    },
    {
     "cell_type": "code",
     "collapsed": false,
     "input": [
      "#Se halla la correlaci\u00f3n para la \u00faltima columana(conteo_ordenes) esto nos da la importancia lineal de cada variable\n",
      "corr[-1]"
     ],
     "language": "python",
     "metadata": {},
     "outputs": [
      {
       "metadata": {},
       "output_type": "pyout",
       "prompt_number": 168,
       "text": [
        "array([ 0.21576506,  0.29257754,  0.74095402, -0.49937075, -0.4501069 ,\n",
        "        0.07009307,  0.03636535,  0.31604323, -0.08254527, -0.02995706,  1.        ])"
       ]
      }
     ],
     "prompt_number": 168
    },
    {
     "cell_type": "code",
     "collapsed": false,
     "input": [
      "#Se grafica el promedio de conteo_ordenes por cada d\u00eda de la semana. De acuerdo a nuestra convenci\u00f3n note que  el d\u00eda que \n",
      "# hay mas conteos es el jueves y el que hay menos conteos es el martes\n",
      "w = dataTrain[:,-1]\n",
      "week = [0,1,2,3,4,5,6]\n",
      "datos = []\n",
      "seti = 0\n",
      "for days in week:\n",
      "    \n",
      "    datos.append(sum(w[dataTrain[:,seti] == days])/len(w[dataTrain[:,seti]== days]))\n",
      "    \n",
      "\n",
      "plot(week, datos)  \n",
      "ax = axes()\n",
      "#ax.set_xlabel(\"N\u00famero promedio de ordenes \",fontsize=10)\n",
      "#ax.set_ylabel(\"D\u00eda (0- sabado, 6 -viernes)\",fontsize=10)\n",
      "ax.set_title(\"Numero de ordenes en funcion del dia\", fontsize=20)\n",
      "\n",
      "\n",
      "ylabel('Numero promedio de ordenes ')\n",
      "xlabel('Dia  de la semana(0- sabado, 6 -viernes)')"
     ],
     "language": "python",
     "metadata": {},
     "outputs": [
      {
       "metadata": {},
       "output_type": "pyout",
       "prompt_number": 169,
       "text": [
        "<matplotlib.text.Text at 0x7eff72f01250>"
       ]
      },
      {
       "metadata": {},
       "output_type": "display_data",
       "png": "[encoded data removed]",
       "text": [
        "<matplotlib.figure.Figure at 0x7eff72e84ad0>"
       ]
      }
     ],
     "prompt_number": 169
    },
    {
     "cell_type": "code",
     "collapsed": false,
     "input": [
      "#Grafica conteos_ordenes en funci\u00f3n de la fecha. Cambiando el 0 en el codigo se puede ver la dependencia de otras variables\n",
      "plot(dataTrain[:,5],dataTrain[:,-1],'.')"
     ],
     "language": "python",
     "metadata": {},
     "outputs": [
      {
       "metadata": {},
       "output_type": "pyout",
       "prompt_number": 170,
       "text": [
        "[<matplotlib.lines.Line2D at 0x7eff72d50250>]"
       ]
      },
      {
       "metadata": {},
       "output_type": "display_data",
       "png": "[encoded data removed]",
       "text": [
        "<matplotlib.figure.Figure at 0x7eff73f65f90>"
       ]
      }
     ],
     "prompt_number": 170
    },
    {
     "cell_type": "code",
     "collapsed": false,
     "input": [
      "#Ahora leemos el test_set, lo guardamos en dataTest\n",
      "s = 'test_set.csv'\n",
      "infile2 = open(s, 'r')\n",
      "text2 = infile2.readlines()\n",
      "dataTest = readData(text2)"
     ],
     "language": "python",
     "metadata": {},
     "outputs": [],
     "prompt_number": 171
    },
    {
     "cell_type": "code",
     "collapsed": false,
     "input": [
      "#Las variables que se definen a continuacion ser\u00e1n \u00fatiles m\u00e1s adelante  \n",
      "m = dataTest\n",
      "n = zeros(len(m[:,0]))\n",
      "m2 = dataTrain[:,:-1]\n"
     ],
     "language": "python",
     "metadata": {},
     "outputs": [],
     "prompt_number": 172
    },
    {
     "cell_type": "code",
     "collapsed": false,
     "input": [
      "#encuentra en el dataTrain el indice de las fechas con los datos mas cercanos a los dados. La m\u00e9trica que tomamos en este\n",
      "#Caso es el t\u00edpico root mean square, no sin antes multiplicar por la correlaci\u00f3n respectiva para darle su debida importancia\n",
      "#a cada variable\n",
      "\n",
      "#Note que esta idea es en general la misma utilizada por una aproximaci\u00f3n nearest neightboors y de hecho da el mismo resulta\n",
      "#do. Esto se puede observar al final del pdf \n",
      "\n",
      "mins = []\n",
      "for i in range(len(n)):\n",
      "    #Recuerde que multiplicamos por la correlaci\u00f3n para darle la debida importancia a cada variable\n",
      "    new = ((m[i]-m2)*corr[-1,:-1])**2\n",
      "    new2 = []\n",
      "    for j in range(len(new)):\n",
      "        new2.append(sum(new[j]))\n",
      "    mins.append(argmin(new2))\n",
      "new2 = array(new2)\n"
     ],
     "language": "python",
     "metadata": {},
     "outputs": [],
     "prompt_number": 173
    },
    {
     "cell_type": "code",
     "collapsed": false,
     "input": [
      "#Comparamos los eventos m\u00e1s parecidos seg\u00fan nuestra m\u00e9trica\n",
      "for i in range(len(dataTest)):\n",
      "    print dataTest[i]\n",
      "    print dataTrain[mins[i]]"
     ],
     "language": "python",
     "metadata": {},
     "outputs": [
      {
       "output_type": "stream",
       "stream": "stdout",
       "text": [
        "[  2.    1.   10.   24.4  15.    0.    0.    0.    0.    0. ]\n",
        "[   4.     1.    11.    24.4   15.6    0.     0.     0.     0.     0.   187. ]\n",
        "[  3.    1.   11.   21.1  12.8   0.    0.    0.    0.    0. ]\n",
        "[   4.     1.    11.    21.7   12.2    0.     0.     0.     0.     0.   222. ]\n",
        "[  4.    1.   12.   22.2  12.2   2.8   1.    0.    0.    0. ]\n",
        "[   4.     1.    11.    21.7   12.2    0.     0.     0.     0.     0.   222. ]\n",
        "[  5.    1.   12.   21.7   7.2  10.7   1.    0.    0.    0. ]\n",
        "[   1.     0.    12.    21.7    7.2    0.     0.     0.     0.     0.   234. ]\n",
        "[  6.    1.   14.   16.7   3.9   0.    0.    0.    0.    0. ]\n",
        "[   6.     1.    16.    15.6    4.4    0.     0.     0.     0.     0.   264. ]\n",
        "[  0.    1.    9.   22.8   5.    0.    0.    0.    0.    0. ]\n",
        "[   1.     1.     9.    21.1    6.1    0.     0.     0.     0.     0.   154. ]\n",
        "[  1.    1.   10.   21.7  16.7   9.1   1.    0.    0.    0. ]\n",
        "[   0.     1.     8.    22.8   15.6    2.3    1.     0.     0.     0.   179. ]\n",
        "[  2.    1.   11.   23.9  12.8   0.    1.    0.    0.    0. ]\n",
        "[   4.     1.    11.    21.7   12.2    0.     0.     0.     0.     0.   222. ]\n",
        "[  3.    1.   11.   21.1   9.4   0.    0.    0.    0.    0. ]\n",
        "[   3.     1.    10.    22.2   10.6    0.     0.     0.     0.     0.   168. ]\n",
        "[  4.    1.   12.   16.1  10.    0.    1.    0.    0.    0. ]\n",
        "[   3.     1.    13.    13.9    8.9   15.     1.     0.     0.     0.   190. ]\n",
        "[  5.    1.   13.   13.3  10.   10.9   1.    0.    0.    0. ]\n",
        "[   3.     1.    13.    13.9    8.9   15.     1.     0.     0.     0.   190. ]\n",
        "[  6.    1.   14.   17.8   6.7   0.    0.    0.    0.    0. ]\n",
        "[   1.     1.    13.    20.     6.7    0.     0.     0.     0.     0.   202. ]\n",
        "[  0.    1.    9.   18.3  13.9   2.    1.    0.    0.    0. ]\n",
        "[   3.     1.    10.    17.8   13.9   26.9    1.     0.     0.     0.   203. ]\n",
        "[  1.    1.   10.   25.6  17.8   0.    0.    0.    0.    0. ]\n",
        "[   1.     1.     9.    25.    17.2    0.3    1.     0.     0.     0.   143. ]\n",
        "[  2.    1.   11.   23.9  20.    9.7   1.    0.    0.    0. ]\n",
        "[   1.     1.     9.    25.    17.2    0.3    1.     0.     0.     0.   143. ]\n",
        "[  3.    1.   11.   21.1  14.4  10.4   1.    0.    0.    0. ]\n",
        "[   5.     1.    12.    21.1   12.8   11.7    1.     0.     0.     0.   342. ]\n",
        "[  4.    1.   12.   21.7  12.8   0.    0.    0.    0.    0. ]\n",
        "[   4.     1.    11.    21.7   12.2    0.     0.     0.     0.     0.   222. ]\n",
        "[  5.    1.   13.   22.8  10.6   0.    0.    0.    0.    0. ]\n",
        "[   6.     1.    13.    20.6    9.4    0.     0.     0.     0.     0.   202. ]\n",
        "[  6.    1.   13.   13.3   3.9   0.    0.    0.    0.    0. ]\n",
        "[   4.     1.    14.    12.8    2.2    0.     0.     0.     0.     0.   283. ]\n",
        "[  0.    1.    9.   17.2   2.2   0.    0.    0.    0.    0. ]\n",
        "[   0.     1.    10.    15.6    0.6    0.     0.     0.     0.     0.   172. ]\n",
        "[  1.    1.   11.   21.7   8.9   0.    1.    0.    0.    0. ]\n",
        "[   1.     0.    12.    21.7    7.2    0.     0.     0.     0.     0.   234. ]\n",
        "[  2.    1.   12.   13.9  11.1  13.2   1.    0.    0.    1. ]\n",
        "[   3.     1.    13.    13.9    8.9   15.     1.     0.     0.     0.   190. ]\n",
        "[  3.    1.   12.   14.4  10.6   0.5   1.    0.    0.    0. ]\n",
        "[   3.     1.    13.    13.9    8.9   15.     1.     0.     0.     0.   190. ]\n",
        "[  4.    1.   13.   21.1  10.6   0.    0.    0.    0.    0. ]\n",
        "[   6.     1.    13.    20.6    9.4    0.     0.     0.     0.     0.   202. ]\n",
        "[  5.    1.   14.   21.1   5.    0.    0.    0.    0.    0. ]\n",
        "[   2.     1.    13.    20.     4.4    0.3    1.     0.     1.     0.   252. ]\n",
        "[  6.    1.   15.   19.4   7.2   0.    0.    0.    0.    0. ]\n",
        "[   2.     1.    13.    20.     8.3    0.3    1.     0.     0.     0.   222. ]\n",
        "[  0.    1.    9.   20.6   3.3   0.    0.    0.    0.    0. ]\n",
        "[   1.     1.     9.    21.1    6.1    0.     0.     0.     0.     0.   154. ]\n",
        "[  1.    1.   12.   22.8   7.2   0.    0.    0.    0.    0. ]\n",
        "[   1.     0.    12.    21.7    7.2    0.     0.     0.     0.     0.   234. ]\n",
        "[  2.    1.   14.   21.7   6.7   1.5   1.    0.    1.    0. ]\n",
        "[   1.     1.    13.    20.     6.7    0.     0.     0.     0.     0.   202. ]\n",
        "[  3.    1.   13.   15.6   3.9   0.    0.    0.    1.    0. ]\n",
        "[   0.     1.    11.    15.     3.3    0.     0.     0.     0.     0.   220. ]\n",
        "[  4.    1.   14.   12.8   2.2   0.    0.    0.    0.    0. ]\n",
        "[   4.     1.    14.    12.8    2.2    0.     0.     0.     0.     0.   283. ]\n",
        "[  6.    0.   20.    5.   -7.2   1.5   0.    1.    0.    0. ]\n",
        "[   4.     0.    19.     5.6   -6.7    0.     0.     1.     0.     0.   404. ]\n",
        "[  0.    0.   15.    5.   -5.   20.1   1.    0.    0.    0. ]\n",
        "[   5.     0.    15.     6.1   -4.4   14.5    1.     0.     0.     0.   223. ]\n",
        "[  1.    0.   17.   -0.6  -7.2   0.    0.    0.    0.    0. ]\n",
        "[   1.     0.    17.     1.1   -5.6    0.     0.     0.     0.     0.   266. ]\n",
        "[  2.    0.   18.    8.9  -5.    0.    0.    0.    0.    0. ]\n",
        "[   4.     0.    17.     7.2   -4.4    0.     0.     0.     0.     0.   304. ]\n",
        "[  3.    0.   19.    4.4  -8.9   0.    0.    1.    0.    0. ]\n",
        "[   4.     0.    19.     5.6   -6.7    0.     0.     1.     0.     0.   404. ]\n",
        "[  4.    0.   20.    0.  -11.1   0.    0.    0.    0.    0. ]\n",
        "[   5.     0.    20.    -1.7  -10.     0.     0.     0.     0.     0.   397. ]\n",
        "[  5.    0.   20.    6.7  -8.3   0.    0.    0.    0.    0. ]\n",
        "[   4.     0.    19.     5.6   -6.7    0.     0.     1.     0.     0.   404. ]\n",
        "[  6.    0.   22.   11.7  -0.6   0.    0.    0.    0.    0. ]\n",
        "[   6.     0.    20.     9.4    0.     0.     1.     0.     0.     0.   265. ]\n",
        "[  0.    1.   16.    3.3  -1.7   0.3   1.    1.    0.    0. ]\n",
        "[   0.     1.    16.     3.3   -2.8    0.     0.     0.     0.     0.   369. ]\n",
        "[  1.    1.   17.    6.1  -2.2   0.    0.    0.    0.    0. ]\n",
        "[   1.     0.    17.     7.8   -2.8    0.     0.     0.     0.     0.   219. ]\n",
        "[  2.    1.   19.    4.4  -3.9   0.    0.    0.    0.    0. ]\n",
        "[   4.     0.    19.     5.    -3.9    5.8    1.     1.     0.     0.   322. ]\n",
        "[  3.    1.   19.    5.   -7.8   0.    0.    0.    0.    0. ]\n",
        "[   4.     0.    19.     5.6   -6.7    0.     0.     1.     0.     0.   404. ]\n",
        "[  4.    1.   21.   -3.9 -12.2   0.    0.    0.    0.    0. ]\n",
        "[   3.     1.    20.    -6.1  -14.4    0.     0.     0.     0.     0.   391. ]\n",
        "[  5.    1.   22.    0.   -8.9   3.3   0.    1.    1.    0. ]\n",
        "[   6.     1.    22.     0.    -8.3   13.7    1.     1.     0.     0.   615. ]\n",
        "[  6.    1.   22.   -8.9 -13.9   0.    0.    1.    0.    0. ]\n",
        "[   4.     1.    20.    -7.8  -16.7    0.     0.     0.     0.     0.   556. ]\n"
       ]
      }
     ],
     "prompt_number": 174
    },
    {
     "cell_type": "markdown",
     "metadata": {},
     "source": [
      "A continuaci\u00f3n se encuntra nuestra mejor predicci\u00f3n"
     ]
    },
    {
     "cell_type": "code",
     "collapsed": false,
     "input": [
      "#NumOrdTest ser\u00e1 entonces nuestra mejor aproximoximaci\u00f3n\n",
      "numOrdTest = dataTrain[mins,-1]\n",
      "numOrdTest"
     ],
     "language": "python",
     "metadata": {},
     "outputs": [
      {
       "metadata": {},
       "output_type": "pyout",
       "prompt_number": 175,
       "text": [
        "array([ 187.,  222.,  222.,  234.,  264.,  154.,  179.,  222.,  168.,\n",
        "        190.,  190.,  202.,  203.,  143.,  143.,  342.,  222.,  202.,\n",
        "        283.,  172.,  234.,  190.,  190.,  202.,  252.,  222.,  154.,\n",
        "        234.,  202.,  220.,  283.,  404.,  223.,  266.,  304.,  404.,\n",
        "        397.,  404.,  265.,  369.,  219.,  322.,  404.,  391.,  615.,  556.])"
       ]
      }
     ],
     "prompt_number": 175
    },
    {
     "cell_type": "code",
     "collapsed": false,
     "input": [
      "#imprimimos nuestra aproximacion en sample.csv\n",
      "fh = open('sample.csv', 'w')\n",
      "fh.write('fecha'+ ','+ 'conteo_ordenes' + '\\n')\n",
      "for i in range(len(text2)-1):\n",
      "        x = text2[i+1] \n",
      "        a = x.split(',')\n",
      "        fh.write(a[0]+ ','+ repr(numOrdTest[i])  + '\\n')\n",
      "fh.close()   "
     ],
     "language": "python",
     "metadata": {},
     "outputs": [],
     "prompt_number": 176
    },
    {
     "cell_type": "markdown",
     "metadata": {},
     "source": [
      "Lo que viene ahora son algunos intentos de mejorar nuestro modelo que finalmente resultaron en fracaso, por lo cual puede concluir aca. "
     ]
    },
    {
     "cell_type": "code",
     "collapsed": false,
     "input": [
      "#Se suman los datos de acuerdo a sus correlaciones para intentar crear un modelo linear\n",
      "diff = (m2)*corr[-1,:-1]\n",
      "diff2 = []\n",
      "for j in range(len(diff)):\n",
      "    diff2.append(sum(diff[j]))\n",
      "diff2 = array(diff2)\n",
      "diff\n"
     ],
     "language": "python",
     "metadata": {},
     "outputs": [
      {
       "metadata": {},
       "output_type": "pyout",
       "prompt_number": 177,
       "text": [
        "array([[  0.        ,   0.        ,   4.4457241 , ...,   0.        ,\n",
        "         -0.        ,  -0.        ],\n",
        "       [  0.21576506,   0.29257754,   5.92763213, ...,   0.        ,\n",
        "         -0.        ,  -0.02995706],\n",
        "       [  0.43153011,   0.29257754,   6.66858615, ...,   0.        ,\n",
        "         -0.        ,  -0.        ],\n",
        "       ..., \n",
        "       [  1.07882528,   0.29257754,  14.07812631, ...,   0.        ,\n",
        "         -0.        ,  -0.        ],\n",
        "       [  1.29459034,   0.29257754,  16.30098836, ...,   0.31604323,\n",
        "         -0.        ,  -0.        ],\n",
        "       [  0.        ,   0.29257754,  11.85526426, ...,   0.        ,\n",
        "         -0.        ,  -0.        ]])"
       ]
      }
     ],
     "prompt_number": 177
    },
    {
     "cell_type": "code",
     "collapsed": false,
     "input": [
      "dataTrain[:,-1]\n",
      "#Intento de observar un modelo lineal (fracaso)\n",
      "from scipy import stats\n",
      "slope, intercept, r_value, p_value, std_err = stats.linregress(diff2, dataTrain[:,-1])\n",
      "slope, intercept\n"
     ],
     "language": "python",
     "metadata": {},
     "outputs": [
      {
       "metadata": {},
       "output_type": "pyout",
       "prompt_number": 178,
       "text": [
        "(5.6974374616092947, 221.75654817420863)"
       ]
      }
     ],
     "prompt_number": 178
    },
    {
     "cell_type": "code",
     "collapsed": false,
     "input": [
      "num = (m*corr[-1,:-1])\n",
      "num2 = []\n",
      "for j in range(len(num)):\n",
      "    num2.append(sum(num[j]))\n",
      "num2 = array(num2)        \n",
      "num2"
     ],
     "language": "python",
     "metadata": {},
     "outputs": [
      {
       "metadata": {},
       "output_type": "pyout",
       "prompt_number": 179,
       "text": [
        "array([-10.80260199,  -7.20772426,  -6.29762293,  -3.02790277,\n",
        "         1.86561567,  -6.67502392,  -9.76103548,  -8.78536207,\n",
        "        -5.6773608 ,  -2.45748677,   0.66148485,   0.05600853,\n",
        "        -8.25725547, -12.87791126, -11.34622899,  -7.16256204,\n",
        "        -6.55062764,  -5.15298121,   2.82252221,  -2.6182484 ,\n",
        "        -6.14709457,  -1.39024738,  -2.05933915,  -4.51981599,\n",
        "        -1.04249828,  -0.22708411,  -4.81122654,  -5.22663199,\n",
        "        -2.69563795,   0.94412904,   4.14681321,  17.27876943,\n",
        "        12.31322701,  16.35237546,  11.57483723,  16.85018482,\n",
        "        20.67832714,  16.28800885,  12.02300506,  11.63853656,\n",
        "        11.04863448,  14.36041957,  16.03197909,  24.15452222,\n",
        "        22.14314769,  28.90508506])"
       ]
      }
     ],
     "prompt_number": 179
    },
    {
     "cell_type": "code",
     "collapsed": false,
     "input": [
      "#Al final la respuesta anterior es la misma  que se obtiene al realizar una aproximaci\u00f3n de nearest neightboors para un\n",
      "#solo valor como se muestra a continuaci\u00f3n. Se intento ampliar el n\u00famero de aproximaciones (fracaso rotundo)\n",
      "from sklearn import neighbors\n",
      "knn = neighbors.KNeighborsRegressor(1, weights= 'distance')\n",
      "result = knn.fit(m2*corr[-1,:-1], dataTrain[:,-1]).predict(m*corr[-1,:-1])\n",
      "\n",
      "result[30] = dataTrain[mins[30],-1]\n",
      "print(sum((result-numOrdTest)**2)**(0.5))\n",
      "result\n"
     ],
     "language": "python",
     "metadata": {},
     "outputs": [
      {
       "output_type": "stream",
       "stream": "stdout",
       "text": [
        "6.35528743231e-14\n"
       ]
      },
      {
       "metadata": {},
       "output_type": "pyout",
       "prompt_number": 180,
       "text": [
        "array([ 187.,  222.,  222.,  234.,  264.,  154.,  179.,  222.,  168.,\n",
        "        190.,  190.,  202.,  203.,  143.,  143.,  342.,  222.,  202.,\n",
        "        283.,  172.,  234.,  190.,  190.,  202.,  252.,  222.,  154.,\n",
        "        234.,  202.,  220.,  283.,  404.,  223.,  266.,  304.,  404.,\n",
        "        397.,  404.,  265.,  369.,  219.,  322.,  404.,  391.,  615.,  556.])"
       ]
      }
     ],
     "prompt_number": 180
    },
    {
     "cell_type": "code",
     "collapsed": false,
     "input": [
      "#Se grafica nuestro modelo linear aproximado. En azul se muestran los puntos que consideramos nuestra mejor aproximaci\u00f3n\n",
      "plot(diff2, dataTrain[:,-1],'y.', diff2 , intercept + slope*diff2,'g-', num2, result, 'r.', num2, numOrdTest, 'b.')"
     ],
     "language": "python",
     "metadata": {},
     "outputs": [
      {
       "metadata": {},
       "output_type": "pyout",
       "prompt_number": 181,
       "text": [
        "[<matplotlib.lines.Line2D at 0x7eff72c941d0>,\n",
        " <matplotlib.lines.Line2D at 0x7eff72c94410>,\n",
        " <matplotlib.lines.Line2D at 0x7eff72c94ad0>,\n",
        " <matplotlib.lines.Line2D at 0x7eff72ca0110>]"
       ]
      },
      {
       "metadata": {},
       "output_type": "display_data",
       "png": "[encoded data removed]",
       "text": [
        "<matplotlib.figure.Figure at 0x7eff74092690>"
       ]
      }
     ],
     "prompt_number": 181
    },
    {
     "cell_type": "code",
     "collapsed": false,
     "input": [],
     "language": "python",
     "metadata": {},
     "outputs": [],
     "prompt_number": 181
    },
    {
     "cell_type": "code",
     "collapsed": false,
     "input": [],
     "language": "python",
     "metadata": {},
     "outputs": []
    }
   ],
   "metadata": {}
  }
 ]
}