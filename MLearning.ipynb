{
 "metadata": {
  "name": ""
 },
 "nbformat": 3,
 "nbformat_minor": 0,
 "worksheets": [
  {
   "cells": [
    {
     "cell_type": "code",
     "collapsed": false,
     "input": [
      "%pylab inline\n",
      "\n",
      "s = 'training_set.csv'\n",
      "infile = open(s, 'r')\n",
      "text = infile.readlines()"
     ],
     "language": "python",
     "metadata": {},
     "outputs": [
      {
       "output_type": "stream",
       "stream": "stdout",
       "text": [
        "Populating the interactive namespace from numpy and matplotlib\n"
       ]
      },
      {
       "output_type": "stream",
       "stream": "stderr",
       "text": [
        "WARNING: pylab import has clobbered these variables: ['average', 'text', 'diff']\n",
        "`%pylab --no-import-all` prevents importing * from pylab and numpy\n"
       ]
      }
     ],
     "prompt_number": 87
    },
    {
     "cell_type": "code",
     "collapsed": false,
     "input": [
      "import datetime\n",
      "dt = '22-03-2012'\n",
      "dt = dt.replace('-','/')\n",
      "day, month, year = (int(x) for x in dt.split('/'))    \n",
      "ans = datetime.date(year, month, day)\n",
      "import time\n",
      "x = \"Monday\"\n",
      "\n",
      "time.strptime(x[:3], '%a').tm_wday\n"
     ],
     "language": "python",
     "metadata": {},
     "outputs": [
      {
       "metadata": {},
       "output_type": "pyout",
       "prompt_number": 88,
       "text": [
        "0"
       ]
      }
     ],
     "prompt_number": 88
    },
    {
     "cell_type": "code",
     "collapsed": false,
     "input": [
      "def readData(text):\n",
      "    data = zeros((len(text[1:]), len(text[1].split(','))+3))\n",
      "    \n",
      "    #se van a ordenar los datos en un dataset ignorando la fecha y a\u00f1adiendo columnas en caso de haber lluvia , nieve , niebla o tormenta\n",
      "    #las pone en codigo binaro\n",
      "    for i in range(len(text[1:])):\n",
      "        x = text[i+1] \n",
      "        a = x.split(',')\n",
      "        a[1:-1]= map(float, a[1:-1])\n",
      "        a[-1] = a[-1].split('\\n')[0] \n",
      "        Lluvia = a[-1].find('Lluvia')\n",
      "        Nieve = a[-1].find('Nieve')\n",
      "        Niebla = a[-1].find('Niebla')\n",
      "        Tormenta = a[-1].find('Tormenta')\n",
      "        \n",
      "        a[-1] = (Lluvia != -1)*1\n",
      "        a.append((Nieve != -1)*1)\n",
      "        a.append((Niebla != -1)*1)\n",
      "        a.append((Tormenta != -1)*1)\n",
      "        \n",
      "        a[0] = a[0].replace('-','/')\n",
      "        day, month, year = (int(x) for x in a[0].split('/')) \n",
      "        ans = datetime.date(day, month, year)\n",
      "        ans = ans.strftime(\"%A\")\n",
      "        #print time.strptime(ans[:3], '%a').tm_wday\n",
      "        a[0] = time.strptime(ans[:3], '%a').tm_wday\n",
      "        a[0] = (a[0]+2)%7\n",
      "        #if((a[0] >= 2) & (a[0]<=4)):\n",
      "        #    a[0] = 1\n",
      "        #else :\n",
      "        #    a[0] = 0\n",
      "            \n",
      "        data[i] = a\n",
      "    return data"
     ],
     "language": "python",
     "metadata": {},
     "outputs": [],
     "prompt_number": 89
    },
    {
     "cell_type": "code",
     "collapsed": false,
     "input": [
      "data = readData(text)\n",
      "data"
     ],
     "language": "python",
     "metadata": {},
     "outputs": [
      {
       "metadata": {},
       "output_type": "pyout",
       "prompt_number": 90,
       "text": [
        "array([[   0.,    0.,  165., ...,    0.,    0.,    0.],\n",
        "       [   1.,    1.,  138., ...,    0.,    0.,    1.],\n",
        "       [   2.,    1.,  127., ...,    0.,    0.,    0.],\n",
        "       ..., \n",
        "       [   5.,    1.,  570., ...,    0.,    0.,    0.],\n",
        "       [   6.,    1.,  615., ...,    1.,    0.,    0.],\n",
        "       [   0.,    1.,  369., ...,    0.,    0.,    0.]])"
       ]
      }
     ],
     "prompt_number": 90
    },
    {
     "cell_type": "code",
     "collapsed": false,
     "input": [
      "data = readData(text)\n",
      "dataTrain = zeros(( len(data[:,1]),len(data[1])))\n",
      "dataTrain[:,0:2] =  data[:,0:2]\n",
      "dataTrain[:,2:-1] = data[:, 3:]\n",
      "dataTrain[:,-1] = data[:,2]\n",
      "dataTrain"
     ],
     "language": "python",
     "metadata": {},
     "outputs": [
      {
       "metadata": {},
       "output_type": "pyout",
       "prompt_number": 91,
       "text": [
        "array([[   0.,    0.,    6., ...,    0.,    0.,  165.],\n",
        "       [   1.,    1.,    8., ...,    0.,    1.,  138.],\n",
        "       [   2.,    1.,    9., ...,    0.,    0.,  127.],\n",
        "       ..., \n",
        "       [   5.,    1.,   19., ...,    0.,    0.,  570.],\n",
        "       [   6.,    1.,   22., ...,    0.,    0.,  615.],\n",
        "       [   0.,    1.,   16., ...,    0.,    0.,  369.]])"
       ]
      }
     ],
     "prompt_number": 91
    },
    {
     "cell_type": "code",
     "collapsed": false,
     "input": [
      "data2 = transpose(dataTrain)\n",
      "cova = cov(data2)\n",
      "corr = corrcoef(data2)"
     ],
     "language": "python",
     "metadata": {},
     "outputs": [],
     "prompt_number": 92
    },
    {
     "cell_type": "code",
     "collapsed": false,
     "input": [
      "dataTrain[:,0]"
     ],
     "language": "python",
     "metadata": {},
     "outputs": [
      {
       "metadata": {},
       "output_type": "pyout",
       "prompt_number": 93,
       "text": [
        "array([ 0.,  1.,  2.,  3.,  4.,  5.,  6.,  0.,  1.,  2.,  3.,  4.,  5.,\n",
        "        6.,  0.,  1.,  2.,  3.,  4.,  5.,  6.,  0.,  1.,  2.,  3.,  4.,\n",
        "        5.,  6.,  0.,  1.,  5.,  6.,  0.,  1.,  2.,  3.,  4.,  5.,  6.,\n",
        "        0.,  1.,  2.,  3.,  4.,  5.,  6.,  0.,  1.,  2.,  3.,  4.,  5.,\n",
        "        6.,  0.,  1.,  2.,  3.,  4.,  5.,  6.,  0.,  1.,  2.,  3.,  4.,\n",
        "        5.,  6.,  0.,  1.,  2.,  3.,  4.,  5.,  6.,  0.,  1.,  2.,  3.,\n",
        "        4.,  5.,  6.,  0.,  1.,  2.,  3.,  4.,  5.,  6.,  0.,  1.,  2.,\n",
        "        3.,  4.,  5.,  6.,  0.,  1.,  2.,  3.,  4.,  5.,  6.,  0.,  1.,\n",
        "        2.,  3.,  4.,  5.,  6.,  0.,  1.,  2.,  3.,  4.,  5.,  6.,  0.,\n",
        "        1.,  2.,  3.,  4.,  5.,  0.,  1.,  2.,  3.,  4.,  5.,  6.,  0.,\n",
        "        1.,  2.,  3.,  4.,  5.,  6.,  0.])"
       ]
      }
     ],
     "prompt_number": 93
    },
    {
     "cell_type": "code",
     "collapsed": false,
     "input": [
      "corr[-1]"
     ],
     "language": "python",
     "metadata": {},
     "outputs": [
      {
       "metadata": {},
       "output_type": "pyout",
       "prompt_number": 94,
       "text": [
        "array([ 0.21576506,  0.29257754,  0.74095402, -0.49937075, -0.4501069 ,\n",
        "        0.07009307,  0.03636535,  0.31604323, -0.08254527, -0.02995706,  1.        ])"
       ]
      }
     ],
     "prompt_number": 94
    },
    {
     "cell_type": "code",
     "collapsed": false,
     "input": [
      "w = dataTrain[:,-1]\n",
      "week = [0,1,2,3,4,5,6]\n",
      "datos = []\n",
      "seti = 0\n",
      "for days in week:\n",
      "    \n",
      "    datos.append(sum(w[dataTrain[:,seti] == days])/len(w[dataTrain[:,seti]== days]))\n",
      "plot(week, datos)  \n"
     ],
     "language": "python",
     "metadata": {},
     "outputs": [
      {
       "metadata": {},
       "output_type": "pyout",
       "prompt_number": 95,
       "text": [
        "[<matplotlib.lines.Line2D at 0x7f61bcb81190>]"
       ]
      },
      {
       "metadata": {},
       "output_type": "display_data",
       "png": "[encoded data removed]",
       "text": [
        "<matplotlib.figure.Figure at 0x7f61bced26d0>"
       ]
      }
     ],
     "prompt_number": 95
    },
    {
     "cell_type": "code",
     "collapsed": false,
     "input": [
      "plot(dataTrain[:,0],dataTrain[:,-1],'.')"
     ],
     "language": "python",
     "metadata": {},
     "outputs": [
      {
       "metadata": {},
       "output_type": "pyout",
       "prompt_number": 96,
       "text": [
        "[<matplotlib.lines.Line2D at 0x7f61bcb376d0>]"
       ]
      },
      {
       "metadata": {},
       "output_type": "display_data",
       "png": "[encoded data removed]",
       "text": [
        "<matplotlib.figure.Figure at 0x7f61bce5fed0>"
       ]
      }
     ],
     "prompt_number": 96
    },
    {
     "cell_type": "code",
     "collapsed": false,
     "input": [
      "s = 'test_set.csv'\n",
      "infile = open(s, 'r')\n",
      "text = infile.readlines()\n",
      "dataTest = readData(text)"
     ],
     "language": "python",
     "metadata": {},
     "outputs": [],
     "prompt_number": 97
    },
    {
     "cell_type": "code",
     "collapsed": false,
     "input": [
      "m = dataTest\n",
      "n = zeros(len(m[:,0]))\n",
      "m2 = dataTrain[:,:-1]\n",
      "\n",
      "m"
     ],
     "language": "python",
     "metadata": {},
     "outputs": [
      {
       "metadata": {},
       "output_type": "pyout",
       "prompt_number": 98,
       "text": [
        "array([[  2. ,   1. ,  10. ,  24.4,  15. ,   0. ,   0. ,   0. ,   0. ,   0. ],\n",
        "       [  3. ,   1. ,  11. ,  21.1,  12.8,   0. ,   0. ,   0. ,   0. ,   0. ],\n",
        "       [  4. ,   1. ,  12. ,  22.2,  12.2,   2.8,   1. ,   0. ,   0. ,   0. ],\n",
        "       [  5. ,   1. ,  12. ,  21.7,   7.2,  10.7,   1. ,   0. ,   0. ,   0. ],\n",
        "       [  6. ,   1. ,  14. ,  16.7,   3.9,   0. ,   0. ,   0. ,   0. ,   0. ],\n",
        "       [  0. ,   1. ,   9. ,  22.8,   5. ,   0. ,   0. ,   0. ,   0. ,   0. ],\n",
        "       [  1. ,   1. ,  10. ,  21.7,  16.7,   9.1,   1. ,   0. ,   0. ,   0. ],\n",
        "       [  2. ,   1. ,  11. ,  23.9,  12.8,   0. ,   1. ,   0. ,   0. ,   0. ],\n",
        "       [  3. ,   1. ,  11. ,  21.1,   9.4,   0. ,   0. ,   0. ,   0. ,   0. ],\n",
        "       [  4. ,   1. ,  12. ,  16.1,  10. ,   0. ,   1. ,   0. ,   0. ,   0. ],\n",
        "       [  5. ,   1. ,  13. ,  13.3,  10. ,  10.9,   1. ,   0. ,   0. ,   0. ],\n",
        "       [  6. ,   1. ,  14. ,  17.8,   6.7,   0. ,   0. ,   0. ,   0. ,   0. ],\n",
        "       [  0. ,   1. ,   9. ,  18.3,  13.9,   2. ,   1. ,   0. ,   0. ,   0. ],\n",
        "       [  1. ,   1. ,  10. ,  25.6,  17.8,   0. ,   0. ,   0. ,   0. ,   0. ],\n",
        "       [  2. ,   1. ,  11. ,  23.9,  20. ,   9.7,   1. ,   0. ,   0. ,   0. ],\n",
        "       [  3. ,   1. ,  11. ,  21.1,  14.4,  10.4,   1. ,   0. ,   0. ,   0. ],\n",
        "       [  4. ,   1. ,  12. ,  21.7,  12.8,   0. ,   0. ,   0. ,   0. ,   0. ],\n",
        "       [  5. ,   1. ,  13. ,  22.8,  10.6,   0. ,   0. ,   0. ,   0. ,   0. ],\n",
        "       [  6. ,   1. ,  13. ,  13.3,   3.9,   0. ,   0. ,   0. ,   0. ,   0. ],\n",
        "       [  0. ,   1. ,   9. ,  17.2,   2.2,   0. ,   0. ,   0. ,   0. ,   0. ],\n",
        "       [  1. ,   1. ,  11. ,  21.7,   8.9,   0. ,   1. ,   0. ,   0. ,   0. ],\n",
        "       [  2. ,   1. ,  12. ,  13.9,  11.1,  13.2,   1. ,   0. ,   0. ,   1. ],\n",
        "       [  3. ,   1. ,  12. ,  14.4,  10.6,   0.5,   1. ,   0. ,   0. ,   0. ],\n",
        "       [  4. ,   1. ,  13. ,  21.1,  10.6,   0. ,   0. ,   0. ,   0. ,   0. ],\n",
        "       [  5. ,   1. ,  14. ,  21.1,   5. ,   0. ,   0. ,   0. ,   0. ,   0. ],\n",
        "       [  6. ,   1. ,  15. ,  19.4,   7.2,   0. ,   0. ,   0. ,   0. ,   0. ],\n",
        "       [  0. ,   1. ,   9. ,  20.6,   3.3,   0. ,   0. ,   0. ,   0. ,   0. ],\n",
        "       [  1. ,   1. ,  12. ,  22.8,   7.2,   0. ,   0. ,   0. ,   0. ,   0. ],\n",
        "       [  2. ,   1. ,  14. ,  21.7,   6.7,   1.5,   1. ,   0. ,   1. ,   0. ],\n",
        "       [  3. ,   1. ,  13. ,  15.6,   3.9,   0. ,   0. ,   0. ,   1. ,   0. ],\n",
        "       [  4. ,   1. ,  14. ,  12.8,   2.2,   0. ,   0. ,   0. ,   0. ,   0. ],\n",
        "       [  6. ,   0. ,  20. ,   5. ,  -7.2,   1.5,   0. ,   1. ,   0. ,   0. ],\n",
        "       [  0. ,   0. ,  15. ,   5. ,  -5. ,  20.1,   1. ,   0. ,   0. ,   0. ],\n",
        "       [  1. ,   0. ,  17. ,  -0.6,  -7.2,   0. ,   0. ,   0. ,   0. ,   0. ],\n",
        "       [  2. ,   0. ,  18. ,   8.9,  -5. ,   0. ,   0. ,   0. ,   0. ,   0. ],\n",
        "       [  3. ,   0. ,  19. ,   4.4,  -8.9,   0. ,   0. ,   1. ,   0. ,   0. ],\n",
        "       [  4. ,   0. ,  20. ,   0. , -11.1,   0. ,   0. ,   0. ,   0. ,   0. ],\n",
        "       [  5. ,   0. ,  20. ,   6.7,  -8.3,   0. ,   0. ,   0. ,   0. ,   0. ],\n",
        "       [  6. ,   0. ,  22. ,  11.7,  -0.6,   0. ,   0. ,   0. ,   0. ,   0. ],\n",
        "       [  0. ,   1. ,  16. ,   3.3,  -1.7,   0.3,   1. ,   1. ,   0. ,   0. ],\n",
        "       [  1. ,   1. ,  17. ,   6.1,  -2.2,   0. ,   0. ,   0. ,   0. ,   0. ],\n",
        "       [  2. ,   1. ,  19. ,   4.4,  -3.9,   0. ,   0. ,   0. ,   0. ,   0. ],\n",
        "       [  3. ,   1. ,  19. ,   5. ,  -7.8,   0. ,   0. ,   0. ,   0. ,   0. ],\n",
        "       [  4. ,   1. ,  21. ,  -3.9, -12.2,   0. ,   0. ,   0. ,   0. ,   0. ],\n",
        "       [  5. ,   1. ,  22. ,   0. ,  -8.9,   3.3,   0. ,   1. ,   1. ,   0. ],\n",
        "       [  6. ,   1. ,  22. ,  -8.9, -13.9,   0. ,   0. ,   1. ,   0. ,   0. ]])"
       ]
      }
     ],
     "prompt_number": 98
    },
    {
     "cell_type": "code",
     "collapsed": false,
     "input": [
      "#encuentra en el dataTrain el indice de las fechas con los datos mas cercanos a los dados\n",
      "\n",
      "mins = []\n",
      "for i in range(len(n)):\n",
      "    new = ((m[i]-m2)*corr[-1,:-1])**2\n",
      "    new2 = []\n",
      "    for j in range(len(new)):\n",
      "        new2.append(sum(new[j]))\n",
      "    mins.append(argmin(new2))\n",
      "new2 = array(new2)\n"
     ],
     "language": "python",
     "metadata": {},
     "outputs": [],
     "prompt_number": 99
    },
    {
     "cell_type": "code",
     "collapsed": false,
     "input": [
      "for i in range(len(dataTest)):\n",
      "    print dataTest[i]\n",
      "    print dataTrain[mins[i]]"
     ],
     "language": "python",
     "metadata": {},
     "outputs": [
      {
       "output_type": "stream",
       "stream": "stdout",
       "text": [
        "[  2.    1.   10.   24.4  15.    0.    0.    0.    0.    0. ]\n",
        "[   4.     1.    11.    24.4   15.6    0.     0.     0.     0.     0.   187. ]\n",
        "[  3.    1.   11.   21.1  12.8   0.    0.    0.    0.    0. ]\n",
        "[   4.     1.    11.    21.7   12.2    0.     0.     0.     0.     0.   222. ]\n",
        "[  4.    1.   12.   22.2  12.2   2.8   1.    0.    0.    0. ]\n",
        "[   4.     1.    11.    21.7   12.2    0.     0.     0.     0.     0.   222. ]\n",
        "[  5.    1.   12.   21.7   7.2  10.7   1.    0.    0.    0. ]\n",
        "[   1.     0.    12.    21.7    7.2    0.     0.     0.     0.     0.   234. ]\n",
        "[  6.    1.   14.   16.7   3.9   0.    0.    0.    0.    0. ]\n",
        "[   6.     1.    16.    15.6    4.4    0.     0.     0.     0.     0.   264. ]\n",
        "[  0.    1.    9.   22.8   5.    0.    0.    0.    0.    0. ]\n",
        "[   1.     1.     9.    21.1    6.1    0.     0.     0.     0.     0.   154. ]\n",
        "[  1.    1.   10.   21.7  16.7   9.1   1.    0.    0.    0. ]\n",
        "[   0.     1.     8.    22.8   15.6    2.3    1.     0.     0.     0.   179. ]\n",
        "[  2.    1.   11.   23.9  12.8   0.    1.    0.    0.    0. ]\n",
        "[   4.     1.    11.    21.7   12.2    0.     0.     0.     0.     0.   222. ]\n",
        "[  3.    1.   11.   21.1   9.4   0.    0.    0.    0.    0. ]\n",
        "[   3.     1.    10.    22.2   10.6    0.     0.     0.     0.     0.   168. ]\n",
        "[  4.    1.   12.   16.1  10.    0.    1.    0.    0.    0. ]\n",
        "[   3.     1.    13.    13.9    8.9   15.     1.     0.     0.     0.   190. ]\n",
        "[  5.    1.   13.   13.3  10.   10.9   1.    0.    0.    0. ]\n",
        "[   3.     1.    13.    13.9    8.9   15.     1.     0.     0.     0.   190. ]\n",
        "[  6.    1.   14.   17.8   6.7   0.    0.    0.    0.    0. ]\n",
        "[   1.     1.    13.    20.     6.7    0.     0.     0.     0.     0.   202. ]\n",
        "[  0.    1.    9.   18.3  13.9   2.    1.    0.    0.    0. ]\n",
        "[   3.     1.    10.    17.8   13.9   26.9    1.     0.     0.     0.   203. ]\n",
        "[  1.    1.   10.   25.6  17.8   0.    0.    0.    0.    0. ]\n",
        "[   1.     1.     9.    25.    17.2    0.3    1.     0.     0.     0.   143. ]\n",
        "[  2.    1.   11.   23.9  20.    9.7   1.    0.    0.    0. ]\n",
        "[   1.     1.     9.    25.    17.2    0.3    1.     0.     0.     0.   143. ]\n",
        "[  3.    1.   11.   21.1  14.4  10.4   1.    0.    0.    0. ]\n",
        "[   5.     1.    12.    21.1   12.8   11.7    1.     0.     0.     0.   342. ]\n",
        "[  4.    1.   12.   21.7  12.8   0.    0.    0.    0.    0. ]\n",
        "[   4.     1.    11.    21.7   12.2    0.     0.     0.     0.     0.   222. ]\n",
        "[  5.    1.   13.   22.8  10.6   0.    0.    0.    0.    0. ]\n",
        "[   6.     1.    13.    20.6    9.4    0.     0.     0.     0.     0.   202. ]\n",
        "[  6.    1.   13.   13.3   3.9   0.    0.    0.    0.    0. ]\n",
        "[   4.     1.    14.    12.8    2.2    0.     0.     0.     0.     0.   283. ]\n",
        "[  0.    1.    9.   17.2   2.2   0.    0.    0.    0.    0. ]\n",
        "[   0.     1.    10.    15.6    0.6    0.     0.     0.     0.     0.   172. ]\n",
        "[  1.    1.   11.   21.7   8.9   0.    1.    0.    0.    0. ]\n",
        "[   1.     0.    12.    21.7    7.2    0.     0.     0.     0.     0.   234. ]\n",
        "[  2.    1.   12.   13.9  11.1  13.2   1.    0.    0.    1. ]\n",
        "[   3.     1.    13.    13.9    8.9   15.     1.     0.     0.     0.   190. ]\n",
        "[  3.    1.   12.   14.4  10.6   0.5   1.    0.    0.    0. ]\n",
        "[   3.     1.    13.    13.9    8.9   15.     1.     0.     0.     0.   190. ]\n",
        "[  4.    1.   13.   21.1  10.6   0.    0.    0.    0.    0. ]\n",
        "[   6.     1.    13.    20.6    9.4    0.     0.     0.     0.     0.   202. ]\n",
        "[  5.    1.   14.   21.1   5.    0.    0.    0.    0.    0. ]\n",
        "[   2.     1.    13.    20.     4.4    0.3    1.     0.     1.     0.   252. ]\n",
        "[  6.    1.   15.   19.4   7.2   0.    0.    0.    0.    0. ]\n",
        "[   2.     1.    13.    20.     8.3    0.3    1.     0.     0.     0.   222. ]\n",
        "[  0.    1.    9.   20.6   3.3   0.    0.    0.    0.    0. ]\n",
        "[   1.     1.     9.    21.1    6.1    0.     0.     0.     0.     0.   154. ]\n",
        "[  1.    1.   12.   22.8   7.2   0.    0.    0.    0.    0. ]\n",
        "[   1.     0.    12.    21.7    7.2    0.     0.     0.     0.     0.   234. ]\n",
        "[  2.    1.   14.   21.7   6.7   1.5   1.    0.    1.    0. ]\n",
        "[   1.     1.    13.    20.     6.7    0.     0.     0.     0.     0.   202. ]\n",
        "[  3.    1.   13.   15.6   3.9   0.    0.    0.    1.    0. ]\n",
        "[   0.     1.    11.    15.     3.3    0.     0.     0.     0.     0.   220. ]\n",
        "[  4.    1.   14.   12.8   2.2   0.    0.    0.    0.    0. ]\n",
        "[   4.     1.    14.    12.8    2.2    0.     0.     0.     0.     0.   283. ]\n",
        "[  6.    0.   20.    5.   -7.2   1.5   0.    1.    0.    0. ]\n",
        "[   4.     0.    19.     5.6   -6.7    0.     0.     1.     0.     0.   404. ]\n",
        "[  0.    0.   15.    5.   -5.   20.1   1.    0.    0.    0. ]\n",
        "[   5.     0.    15.     6.1   -4.4   14.5    1.     0.     0.     0.   223. ]\n",
        "[  1.    0.   17.   -0.6  -7.2   0.    0.    0.    0.    0. ]\n",
        "[   1.     0.    17.     1.1   -5.6    0.     0.     0.     0.     0.   266. ]\n",
        "[  2.    0.   18.    8.9  -5.    0.    0.    0.    0.    0. ]\n",
        "[   4.     0.    17.     7.2   -4.4    0.     0.     0.     0.     0.   304. ]\n",
        "[  3.    0.   19.    4.4  -8.9   0.    0.    1.    0.    0. ]\n",
        "[   4.     0.    19.     5.6   -6.7    0.     0.     1.     0.     0.   404. ]\n",
        "[  4.    0.   20.    0.  -11.1   0.    0.    0.    0.    0. ]\n",
        "[   5.     0.    20.    -1.7  -10.     0.     0.     0.     0.     0.   397. ]\n",
        "[  5.    0.   20.    6.7  -8.3   0.    0.    0.    0.    0. ]\n",
        "[   4.     0.    19.     5.6   -6.7    0.     0.     1.     0.     0.   404. ]\n",
        "[  6.    0.   22.   11.7  -0.6   0.    0.    0.    0.    0. ]\n",
        "[   6.     0.    20.     9.4    0.     0.     1.     0.     0.     0.   265. ]\n",
        "[  0.    1.   16.    3.3  -1.7   0.3   1.    1.    0.    0. ]\n",
        "[   0.     1.    16.     3.3   -2.8    0.     0.     0.     0.     0.   369. ]\n",
        "[  1.    1.   17.    6.1  -2.2   0.    0.    0.    0.    0. ]\n",
        "[   1.     0.    17.     7.8   -2.8    0.     0.     0.     0.     0.   219. ]\n",
        "[  2.    1.   19.    4.4  -3.9   0.    0.    0.    0.    0. ]\n",
        "[   4.     0.    19.     5.    -3.9    5.8    1.     1.     0.     0.   322. ]\n",
        "[  3.    1.   19.    5.   -7.8   0.    0.    0.    0.    0. ]\n",
        "[   4.     0.    19.     5.6   -6.7    0.     0.     1.     0.     0.   404. ]\n",
        "[  4.    1.   21.   -3.9 -12.2   0.    0.    0.    0.    0. ]\n",
        "[   3.     1.    20.    -6.1  -14.4    0.     0.     0.     0.     0.   391. ]\n",
        "[  5.    1.   22.    0.   -8.9   3.3   0.    1.    1.    0. ]\n",
        "[   6.     1.    22.     0.    -8.3   13.7    1.     1.     0.     0.   615. ]\n",
        "[  6.    1.   22.   -8.9 -13.9   0.    0.    1.    0.    0. ]\n",
        "[   4.     1.    20.    -7.8  -16.7    0.     0.     0.     0.     0.   556. ]\n"
       ]
      }
     ],
     "prompt_number": 100
    },
    {
     "cell_type": "code",
     "collapsed": false,
     "input": [
      "numOrdTest = dataTrain[mins,-1]\n",
      "numOrdTest"
     ],
     "language": "python",
     "metadata": {},
     "outputs": [
      {
       "metadata": {},
       "output_type": "pyout",
       "prompt_number": 101,
       "text": [
        "array([ 187.,  222.,  222.,  234.,  264.,  154.,  179.,  222.,  168.,\n",
        "        190.,  190.,  202.,  203.,  143.,  143.,  342.,  222.,  202.,\n",
        "        283.,  172.,  234.,  190.,  190.,  202.,  252.,  222.,  154.,\n",
        "        234.,  202.,  220.,  283.,  404.,  223.,  266.,  304.,  404.,\n",
        "        397.,  404.,  265.,  369.,  219.,  322.,  404.,  391.,  615.,  556.])"
       ]
      }
     ],
     "prompt_number": 101
    },
    {
     "cell_type": "code",
     "collapsed": false,
     "input": [
      "for i in range(len(m2[1])):\n",
      "    k = (max(m2[:,i])-min(m2[:,i]))\n",
      "    m2[:,i] = m2[:,i]/k\n",
      "    m[:,i] = m[:,i]/k\n",
      "\n",
      "m"
     ],
     "language": "python",
     "metadata": {},
     "outputs": [
      {
       "metadata": {},
       "output_type": "pyout",
       "prompt_number": 102,
       "text": [
        "array([[ 0.33333333,  1.        ,  0.52631579,  0.58513189,  0.37974684,\n",
        "         0.        ,  0.        ,  0.        ,  0.        ,  0.        ],\n",
        "       [ 0.5       ,  1.        ,  0.57894737,  0.5059952 ,  0.32405063,\n",
        "         0.        ,  0.        ,  0.        ,  0.        ,  0.        ],\n",
        "       [ 0.66666667,  1.        ,  0.63157895,  0.5323741 ,  0.30886076,\n",
        "         0.06603774,  1.        ,  0.        ,  0.        ,  0.        ],\n",
        "       [ 0.83333333,  1.        ,  0.63157895,  0.52038369,  0.18227848,\n",
        "         0.25235849,  1.        ,  0.        ,  0.        ,  0.        ],\n",
        "       [ 1.        ,  1.        ,  0.73684211,  0.40047962,  0.09873418,\n",
        "         0.        ,  0.        ,  0.        ,  0.        ,  0.        ],\n",
        "       [ 0.        ,  1.        ,  0.47368421,  0.54676259,  0.12658228,\n",
        "         0.        ,  0.        ,  0.        ,  0.        ,  0.        ],\n",
        "       [ 0.16666667,  1.        ,  0.52631579,  0.52038369,  0.42278481,\n",
        "         0.21462264,  1.        ,  0.        ,  0.        ,  0.        ],\n",
        "       [ 0.33333333,  1.        ,  0.57894737,  0.57314149,  0.32405063,\n",
        "         0.        ,  1.        ,  0.        ,  0.        ,  0.        ],\n",
        "       [ 0.5       ,  1.        ,  0.57894737,  0.5059952 ,  0.23797468,\n",
        "         0.        ,  0.        ,  0.        ,  0.        ,  0.        ],\n",
        "       [ 0.66666667,  1.        ,  0.63157895,  0.38609113,  0.25316456,\n",
        "         0.        ,  1.        ,  0.        ,  0.        ,  0.        ],\n",
        "       [ 0.83333333,  1.        ,  0.68421053,  0.31894484,  0.25316456,\n",
        "         0.25707547,  1.        ,  0.        ,  0.        ,  0.        ],\n",
        "       [ 1.        ,  1.        ,  0.73684211,  0.42685851,  0.16962025,\n",
        "         0.        ,  0.        ,  0.        ,  0.        ,  0.        ],\n",
        "       [ 0.        ,  1.        ,  0.47368421,  0.43884892,  0.35189873,\n",
        "         0.04716981,  1.        ,  0.        ,  0.        ,  0.        ],\n",
        "       [ 0.16666667,  1.        ,  0.52631579,  0.61390887,  0.45063291,\n",
        "         0.        ,  0.        ,  0.        ,  0.        ,  0.        ],\n",
        "       [ 0.33333333,  1.        ,  0.57894737,  0.57314149,  0.50632911,\n",
        "         0.22877358,  1.        ,  0.        ,  0.        ,  0.        ],\n",
        "       [ 0.5       ,  1.        ,  0.57894737,  0.5059952 ,  0.36455696,\n",
        "         0.24528302,  1.        ,  0.        ,  0.        ,  0.        ],\n",
        "       [ 0.66666667,  1.        ,  0.63157895,  0.52038369,  0.32405063,\n",
        "         0.        ,  0.        ,  0.        ,  0.        ,  0.        ],\n",
        "       [ 0.83333333,  1.        ,  0.68421053,  0.54676259,  0.26835443,\n",
        "         0.        ,  0.        ,  0.        ,  0.        ,  0.        ],\n",
        "       [ 1.        ,  1.        ,  0.68421053,  0.31894484,  0.09873418,\n",
        "         0.        ,  0.        ,  0.        ,  0.        ,  0.        ],\n",
        "       [ 0.        ,  1.        ,  0.47368421,  0.41247002,  0.0556962 ,\n",
        "         0.        ,  0.        ,  0.        ,  0.        ,  0.        ],\n",
        "       [ 0.16666667,  1.        ,  0.57894737,  0.52038369,  0.22531646,\n",
        "         0.        ,  1.        ,  0.        ,  0.        ,  0.        ],\n",
        "       [ 0.33333333,  1.        ,  0.63157895,  0.33333333,  0.28101266,\n",
        "         0.31132075,  1.        ,  0.        ,  0.        ,  1.        ],\n",
        "       [ 0.5       ,  1.        ,  0.63157895,  0.34532374,  0.26835443,\n",
        "         0.01179245,  1.        ,  0.        ,  0.        ,  0.        ],\n",
        "       [ 0.66666667,  1.        ,  0.68421053,  0.5059952 ,  0.26835443,\n",
        "         0.        ,  0.        ,  0.        ,  0.        ,  0.        ],\n",
        "       [ 0.83333333,  1.        ,  0.73684211,  0.5059952 ,  0.12658228,\n",
        "         0.        ,  0.        ,  0.        ,  0.        ,  0.        ],\n",
        "       [ 1.        ,  1.        ,  0.78947368,  0.46522782,  0.18227848,\n",
        "         0.        ,  0.        ,  0.        ,  0.        ,  0.        ],\n",
        "       [ 0.        ,  1.        ,  0.47368421,  0.4940048 ,  0.0835443 ,\n",
        "         0.        ,  0.        ,  0.        ,  0.        ,  0.        ],\n",
        "       [ 0.16666667,  1.        ,  0.63157895,  0.54676259,  0.18227848,\n",
        "         0.        ,  0.        ,  0.        ,  0.        ,  0.        ],\n",
        "       [ 0.33333333,  1.        ,  0.73684211,  0.52038369,  0.16962025,\n",
        "         0.03537736,  1.        ,  0.        ,  1.        ,  0.        ],\n",
        "       [ 0.5       ,  1.        ,  0.68421053,  0.37410072,  0.09873418,\n",
        "         0.        ,  0.        ,  0.        ,  1.        ,  0.        ],\n",
        "       [ 0.66666667,  1.        ,  0.73684211,  0.30695444,  0.0556962 ,\n",
        "         0.        ,  0.        ,  0.        ,  0.        ,  0.        ],\n",
        "       [ 1.        ,  0.        ,  1.05263158,  0.11990408, -0.18227848,\n",
        "         0.03537736,  0.        ,  1.        ,  0.        ,  0.        ],\n",
        "       [ 0.        ,  0.        ,  0.78947368,  0.11990408, -0.12658228,\n",
        "         0.4740566 ,  1.        ,  0.        ,  0.        ,  0.        ],\n",
        "       [ 0.16666667,  0.        ,  0.89473684, -0.01438849, -0.18227848,\n",
        "         0.        ,  0.        ,  0.        ,  0.        ,  0.        ],\n",
        "       [ 0.33333333,  0.        ,  0.94736842,  0.21342926, -0.12658228,\n",
        "         0.        ,  0.        ,  0.        ,  0.        ,  0.        ],\n",
        "       [ 0.5       ,  0.        ,  1.        ,  0.10551559, -0.22531646,\n",
        "         0.        ,  0.        ,  1.        ,  0.        ,  0.        ],\n",
        "       [ 0.66666667,  0.        ,  1.05263158,  0.        , -0.28101266,\n",
        "         0.        ,  0.        ,  0.        ,  0.        ,  0.        ],\n",
        "       [ 0.83333333,  0.        ,  1.05263158,  0.16067146, -0.21012658,\n",
        "         0.        ,  0.        ,  0.        ,  0.        ,  0.        ],\n",
        "       [ 1.        ,  0.        ,  1.15789474,  0.28057554, -0.01518987,\n",
        "         0.        ,  0.        ,  0.        ,  0.        ,  0.        ],\n",
        "       [ 0.        ,  1.        ,  0.84210526,  0.07913669, -0.04303797,\n",
        "         0.00707547,  1.        ,  1.        ,  0.        ,  0.        ],\n",
        "       [ 0.16666667,  1.        ,  0.89473684,  0.14628297, -0.0556962 ,\n",
        "         0.        ,  0.        ,  0.        ,  0.        ,  0.        ],\n",
        "       [ 0.33333333,  1.        ,  1.        ,  0.10551559, -0.09873418,\n",
        "         0.        ,  0.        ,  0.        ,  0.        ,  0.        ],\n",
        "       [ 0.5       ,  1.        ,  1.        ,  0.11990408, -0.19746835,\n",
        "         0.        ,  0.        ,  0.        ,  0.        ,  0.        ],\n",
        "       [ 0.66666667,  1.        ,  1.10526316, -0.09352518, -0.30886076,\n",
        "         0.        ,  0.        ,  0.        ,  0.        ,  0.        ],\n",
        "       [ 0.83333333,  1.        ,  1.15789474,  0.        , -0.22531646,\n",
        "         0.07783019,  0.        ,  1.        ,  1.        ,  0.        ],\n",
        "       [ 1.        ,  1.        ,  1.15789474, -0.21342926, -0.35189873,\n",
        "         0.        ,  0.        ,  1.        ,  0.        ,  0.        ]])"
       ]
      }
     ],
     "prompt_number": 102
    },
    {
     "cell_type": "code",
     "collapsed": false,
     "input": [
      "m2"
     ],
     "language": "python",
     "metadata": {},
     "outputs": [
      {
       "metadata": {},
       "output_type": "pyout",
       "prompt_number": 103,
       "text": [
        "array([[ 0.        ,  0.        ,  0.31578947, ...,  0.        ,\n",
        "         0.        ,  0.        ],\n",
        "       [ 0.16666667,  1.        ,  0.42105263, ...,  0.        ,\n",
        "         0.        ,  1.        ],\n",
        "       [ 0.33333333,  1.        ,  0.47368421, ...,  0.        ,\n",
        "         0.        ,  0.        ],\n",
        "       ..., \n",
        "       [ 0.83333333,  1.        ,  1.        , ...,  0.        ,\n",
        "         0.        ,  0.        ],\n",
        "       [ 1.        ,  1.        ,  1.15789474, ...,  1.        ,\n",
        "         0.        ,  0.        ],\n",
        "       [ 0.        ,  1.        ,  0.84210526, ...,  0.        ,\n",
        "         0.        ,  0.        ]])"
       ]
      }
     ],
     "prompt_number": 103
    },
    {
     "cell_type": "code",
     "collapsed": false,
     "input": [
      "diff = (m2)*corr[-1,:-1]\n",
      "diff2 = []\n",
      "for j in range(len(diff)):\n",
      "    diff2.append(sum(diff[j]))\n",
      "diff2 = array(diff2)\n",
      "diff\n"
     ],
     "language": "python",
     "metadata": {},
     "outputs": [
      {
       "metadata": {},
       "output_type": "pyout",
       "prompt_number": 104,
       "text": [
        "array([[ 0.        ,  0.        ,  0.23398548, ...,  0.        ,\n",
        "        -0.        , -0.        ],\n",
        "       [ 0.03596084,  0.29257754,  0.31198064, ...,  0.        ,\n",
        "        -0.        , -0.02995706],\n",
        "       [ 0.07192169,  0.29257754,  0.35097822, ...,  0.        ,\n",
        "        -0.        , -0.        ],\n",
        "       ..., \n",
        "       [ 0.17980421,  0.29257754,  0.74095402, ...,  0.        ,\n",
        "        -0.        , -0.        ],\n",
        "       [ 0.21576506,  0.29257754,  0.85794676, ...,  0.31604323,\n",
        "        -0.        , -0.        ],\n",
        "       [ 0.        ,  0.29257754,  0.62396128, ...,  0.        ,\n",
        "        -0.        , -0.        ]])"
       ]
      }
     ],
     "prompt_number": 104
    },
    {
     "cell_type": "code",
     "collapsed": false,
     "input": [
      "dataTrain[:,-1]\n",
      "from scipy import stats\n",
      "slope, intercept, r_value, p_value, std_err = stats.linregress(diff2, dataTrain[:,-1])\n",
      "slope, intercept\n"
     ],
     "language": "python",
     "metadata": {},
     "outputs": [
      {
       "metadata": {},
       "output_type": "pyout",
       "prompt_number": 105,
       "text": [
        "(206.10696278347316, 101.96958760795221)"
       ]
      }
     ],
     "prompt_number": 105
    },
    {
     "cell_type": "code",
     "collapsed": false,
     "input": [
      "m2"
     ],
     "language": "python",
     "metadata": {},
     "outputs": [
      {
       "metadata": {},
       "output_type": "pyout",
       "prompt_number": 106,
       "text": [
        "array([[ 0.        ,  0.        ,  0.31578947, ...,  0.        ,\n",
        "         0.        ,  0.        ],\n",
        "       [ 0.16666667,  1.        ,  0.42105263, ...,  0.        ,\n",
        "         0.        ,  1.        ],\n",
        "       [ 0.33333333,  1.        ,  0.47368421, ...,  0.        ,\n",
        "         0.        ,  0.        ],\n",
        "       ..., \n",
        "       [ 0.83333333,  1.        ,  1.        , ...,  0.        ,\n",
        "         0.        ,  0.        ],\n",
        "       [ 1.        ,  1.        ,  1.15789474, ...,  1.        ,\n",
        "         0.        ,  0.        ],\n",
        "       [ 0.        ,  1.        ,  0.84210526, ...,  0.        ,\n",
        "         0.        ,  0.        ]])"
       ]
      }
     ],
     "prompt_number": 106
    },
    {
     "cell_type": "code",
     "collapsed": false,
     "input": [
      "average = []\n",
      "for i in range(len(n)):\n",
      "    new = ((m[i]-m2)*corr[-1,:-1])**(2)\n",
      "    total = 0\n",
      "    numero = 0\n",
      "    for j in range(len(new)):\n",
      "        \n",
      "        if(sum(new[j])==0):\n",
      "            p = 10**20\n",
      "            print 'plus'\n",
      "        else:    \n",
      "            p =sum(new[j])**(-2)\n",
      "            \n",
      "        total = p*dataTrain[j,-1] + total \n",
      "        numero = p + numero\n",
      "        \n",
      "    average.append(total/ numero)\n",
      "    \n",
      "average = array(average)\n",
      "average"
     ],
     "language": "python",
     "metadata": {},
     "outputs": [
      {
       "output_type": "stream",
       "stream": "stdout",
       "text": [
        "plus\n"
       ]
      },
      {
       "metadata": {},
       "output_type": "pyout",
       "prompt_number": 107,
       "text": [
        "array([ 168.45270097,  207.96505919,  278.58884475,  255.08870303,\n",
        "        259.13470935,  159.18036128,  164.82912045,  195.69418376,\n",
        "        196.03885111,  231.29839283,  244.55095264,  236.62198472,\n",
        "        167.22468218,  154.60958313,  182.44939035,  209.17893616,\n",
        "        234.52692299,  230.70997768,  263.70555113,  177.72093238,\n",
        "        211.93420132,  220.66940121,  208.85445681,  240.75540485,\n",
        "        239.02846925,  253.99583296,  164.8876103 ,  213.73159288,\n",
        "        247.4355867 ,  258.0753408 ,  283.        ,  354.02052234,\n",
        "        222.81290449,  265.11463792,  240.78628578,  347.64882534,\n",
        "        384.31015965,  304.21721898,  274.46035287,  349.3431438 ,\n",
        "        338.5467942 ,  353.91031868,  389.25247636,  445.07436917,\n",
        "        477.65985519,  467.65030403])"
       ]
      }
     ],
     "prompt_number": 107
    },
    {
     "cell_type": "code",
     "collapsed": false,
     "input": [
      "m"
     ],
     "language": "python",
     "metadata": {},
     "outputs": [
      {
       "metadata": {},
       "output_type": "pyout",
       "prompt_number": 108,
       "text": [
        "array([[ 0.33333333,  1.        ,  0.52631579,  0.58513189,  0.37974684,\n",
        "         0.        ,  0.        ,  0.        ,  0.        ,  0.        ],\n",
        "       [ 0.5       ,  1.        ,  0.57894737,  0.5059952 ,  0.32405063,\n",
        "         0.        ,  0.        ,  0.        ,  0.        ,  0.        ],\n",
        "       [ 0.66666667,  1.        ,  0.63157895,  0.5323741 ,  0.30886076,\n",
        "         0.06603774,  1.        ,  0.        ,  0.        ,  0.        ],\n",
        "       [ 0.83333333,  1.        ,  0.63157895,  0.52038369,  0.18227848,\n",
        "         0.25235849,  1.        ,  0.        ,  0.        ,  0.        ],\n",
        "       [ 1.        ,  1.        ,  0.73684211,  0.40047962,  0.09873418,\n",
        "         0.        ,  0.        ,  0.        ,  0.        ,  0.        ],\n",
        "       [ 0.        ,  1.        ,  0.47368421,  0.54676259,  0.12658228,\n",
        "         0.        ,  0.        ,  0.        ,  0.        ,  0.        ],\n",
        "       [ 0.16666667,  1.        ,  0.52631579,  0.52038369,  0.42278481,\n",
        "         0.21462264,  1.        ,  0.        ,  0.        ,  0.        ],\n",
        "       [ 0.33333333,  1.        ,  0.57894737,  0.57314149,  0.32405063,\n",
        "         0.        ,  1.        ,  0.        ,  0.        ,  0.        ],\n",
        "       [ 0.5       ,  1.        ,  0.57894737,  0.5059952 ,  0.23797468,\n",
        "         0.        ,  0.        ,  0.        ,  0.        ,  0.        ],\n",
        "       [ 0.66666667,  1.        ,  0.63157895,  0.38609113,  0.25316456,\n",
        "         0.        ,  1.        ,  0.        ,  0.        ,  0.        ],\n",
        "       [ 0.83333333,  1.        ,  0.68421053,  0.31894484,  0.25316456,\n",
        "         0.25707547,  1.        ,  0.        ,  0.        ,  0.        ],\n",
        "       [ 1.        ,  1.        ,  0.73684211,  0.42685851,  0.16962025,\n",
        "         0.        ,  0.        ,  0.        ,  0.        ,  0.        ],\n",
        "       [ 0.        ,  1.        ,  0.47368421,  0.43884892,  0.35189873,\n",
        "         0.04716981,  1.        ,  0.        ,  0.        ,  0.        ],\n",
        "       [ 0.16666667,  1.        ,  0.52631579,  0.61390887,  0.45063291,\n",
        "         0.        ,  0.        ,  0.        ,  0.        ,  0.        ],\n",
        "       [ 0.33333333,  1.        ,  0.57894737,  0.57314149,  0.50632911,\n",
        "         0.22877358,  1.        ,  0.        ,  0.        ,  0.        ],\n",
        "       [ 0.5       ,  1.        ,  0.57894737,  0.5059952 ,  0.36455696,\n",
        "         0.24528302,  1.        ,  0.        ,  0.        ,  0.        ],\n",
        "       [ 0.66666667,  1.        ,  0.63157895,  0.52038369,  0.32405063,\n",
        "         0.        ,  0.        ,  0.        ,  0.        ,  0.        ],\n",
        "       [ 0.83333333,  1.        ,  0.68421053,  0.54676259,  0.26835443,\n",
        "         0.        ,  0.        ,  0.        ,  0.        ,  0.        ],\n",
        "       [ 1.        ,  1.        ,  0.68421053,  0.31894484,  0.09873418,\n",
        "         0.        ,  0.        ,  0.        ,  0.        ,  0.        ],\n",
        "       [ 0.        ,  1.        ,  0.47368421,  0.41247002,  0.0556962 ,\n",
        "         0.        ,  0.        ,  0.        ,  0.        ,  0.        ],\n",
        "       [ 0.16666667,  1.        ,  0.57894737,  0.52038369,  0.22531646,\n",
        "         0.        ,  1.        ,  0.        ,  0.        ,  0.        ],\n",
        "       [ 0.33333333,  1.        ,  0.63157895,  0.33333333,  0.28101266,\n",
        "         0.31132075,  1.        ,  0.        ,  0.        ,  1.        ],\n",
        "       [ 0.5       ,  1.        ,  0.63157895,  0.34532374,  0.26835443,\n",
        "         0.01179245,  1.        ,  0.        ,  0.        ,  0.        ],\n",
        "       [ 0.66666667,  1.        ,  0.68421053,  0.5059952 ,  0.26835443,\n",
        "         0.        ,  0.        ,  0.        ,  0.        ,  0.        ],\n",
        "       [ 0.83333333,  1.        ,  0.73684211,  0.5059952 ,  0.12658228,\n",
        "         0.        ,  0.        ,  0.        ,  0.        ,  0.        ],\n",
        "       [ 1.        ,  1.        ,  0.78947368,  0.46522782,  0.18227848,\n",
        "         0.        ,  0.        ,  0.        ,  0.        ,  0.        ],\n",
        "       [ 0.        ,  1.        ,  0.47368421,  0.4940048 ,  0.0835443 ,\n",
        "         0.        ,  0.        ,  0.        ,  0.        ,  0.        ],\n",
        "       [ 0.16666667,  1.        ,  0.63157895,  0.54676259,  0.18227848,\n",
        "         0.        ,  0.        ,  0.        ,  0.        ,  0.        ],\n",
        "       [ 0.33333333,  1.        ,  0.73684211,  0.52038369,  0.16962025,\n",
        "         0.03537736,  1.        ,  0.        ,  1.        ,  0.        ],\n",
        "       [ 0.5       ,  1.        ,  0.68421053,  0.37410072,  0.09873418,\n",
        "         0.        ,  0.        ,  0.        ,  1.        ,  0.        ],\n",
        "       [ 0.66666667,  1.        ,  0.73684211,  0.30695444,  0.0556962 ,\n",
        "         0.        ,  0.        ,  0.        ,  0.        ,  0.        ],\n",
        "       [ 1.        ,  0.        ,  1.05263158,  0.11990408, -0.18227848,\n",
        "         0.03537736,  0.        ,  1.        ,  0.        ,  0.        ],\n",
        "       [ 0.        ,  0.        ,  0.78947368,  0.11990408, -0.12658228,\n",
        "         0.4740566 ,  1.        ,  0.        ,  0.        ,  0.        ],\n",
        "       [ 0.16666667,  0.        ,  0.89473684, -0.01438849, -0.18227848,\n",
        "         0.        ,  0.        ,  0.        ,  0.        ,  0.        ],\n",
        "       [ 0.33333333,  0.        ,  0.94736842,  0.21342926, -0.12658228,\n",
        "         0.        ,  0.        ,  0.        ,  0.        ,  0.        ],\n",
        "       [ 0.5       ,  0.        ,  1.        ,  0.10551559, -0.22531646,\n",
        "         0.        ,  0.        ,  1.        ,  0.        ,  0.        ],\n",
        "       [ 0.66666667,  0.        ,  1.05263158,  0.        , -0.28101266,\n",
        "         0.        ,  0.        ,  0.        ,  0.        ,  0.        ],\n",
        "       [ 0.83333333,  0.        ,  1.05263158,  0.16067146, -0.21012658,\n",
        "         0.        ,  0.        ,  0.        ,  0.        ,  0.        ],\n",
        "       [ 1.        ,  0.        ,  1.15789474,  0.28057554, -0.01518987,\n",
        "         0.        ,  0.        ,  0.        ,  0.        ,  0.        ],\n",
        "       [ 0.        ,  1.        ,  0.84210526,  0.07913669, -0.04303797,\n",
        "         0.00707547,  1.        ,  1.        ,  0.        ,  0.        ],\n",
        "       [ 0.16666667,  1.        ,  0.89473684,  0.14628297, -0.0556962 ,\n",
        "         0.        ,  0.        ,  0.        ,  0.        ,  0.        ],\n",
        "       [ 0.33333333,  1.        ,  1.        ,  0.10551559, -0.09873418,\n",
        "         0.        ,  0.        ,  0.        ,  0.        ,  0.        ],\n",
        "       [ 0.5       ,  1.        ,  1.        ,  0.11990408, -0.19746835,\n",
        "         0.        ,  0.        ,  0.        ,  0.        ,  0.        ],\n",
        "       [ 0.66666667,  1.        ,  1.10526316, -0.09352518, -0.30886076,\n",
        "         0.        ,  0.        ,  0.        ,  0.        ,  0.        ],\n",
        "       [ 0.83333333,  1.        ,  1.15789474,  0.        , -0.22531646,\n",
        "         0.07783019,  0.        ,  1.        ,  1.        ,  0.        ],\n",
        "       [ 1.        ,  1.        ,  1.15789474, -0.21342926, -0.35189873,\n",
        "         0.        ,  0.        ,  1.        ,  0.        ,  0.        ]])"
       ]
      }
     ],
     "prompt_number": 108
    },
    {
     "cell_type": "code",
     "collapsed": false,
     "input": [
      "num = (m*corr[-1,:-1])\n",
      "num2 = []\n",
      "for j in range(len(num)):\n",
      "    num2.append(sum(num[j]))\n",
      "num2 = array(num2)        \n",
      "num2"
     ],
     "language": "python",
     "metadata": {},
     "outputs": [
      {
       "metadata": {},
       "output_type": "pyout",
       "prompt_number": 109,
       "text": [
        "array([ 0.2913506 ,  0.43089682,  0.54051359,  0.65249744,  0.80987998,\n",
        "        0.31354296,  0.31976033,  0.39777043,  0.4696402 ,  0.63400349,\n",
        "        0.76051201,  0.76480081,  0.30568702,  0.20911307,  0.33176107,\n",
        "        0.46622263,  0.49867005,  0.58552487,  0.81159848,  0.41251105,\n",
        "        0.43259622,  0.56775724,  0.61239019,  0.56992207,  0.70869311,\n",
        "        0.77894033,  0.35926035,  0.4414273 ,  0.53055349,  0.59362745,\n",
        "        0.80403372,  1.33640781,  0.65165609,  0.78814969,  0.72427335,\n",
        "        1.21360487,  1.0502807 ,  0.97410061,  0.94043766,  1.24929648,\n",
        "        0.94351705,  1.09720278,  1.17041937,  1.44109419,  1.67069833,\n",
        "        1.94730497])"
       ]
      }
     ],
     "prompt_number": 109
    },
    {
     "cell_type": "code",
     "collapsed": false,
     "input": [
      "for i in range(len(m2[0])):\n",
      "    m2[:,i] = m2[:,i] "
     ],
     "language": "python",
     "metadata": {},
     "outputs": [],
     "prompt_number": 110
    },
    {
     "cell_type": "code",
     "collapsed": false,
     "input": [
      "\n",
      "from sklearn import neighbors\n",
      "knn = neighbors.KNeighborsRegressor(1, weights= 'distance')\n",
      "result = knn.fit(m2*corr[-1,:-1], dataTrain[:,-1]).predict(m*corr[-1,:-1])\n",
      "#datos = []\n",
      "#for x in diff2:\n",
      "#    datos.append(array(x))\n",
      "#array(datos)    \n",
      "result[30] = dataTrain[mins[30],-1]\n",
      "print(sum((result-numOrdTest)**2)**(0.5))\n",
      "result\n"
     ],
     "language": "python",
     "metadata": {},
     "outputs": [
      {
       "output_type": "stream",
       "stream": "stdout",
       "text": [
        "340.022058108\n"
       ]
      },
      {
       "metadata": {},
       "output_type": "pyout",
       "prompt_number": 111,
       "text": [
        "array([ 171.,  222.,  342.,  342.,  264.,  154.,  143.,  168.,  168.,\n",
        "        190.,  190.,  202.,  179.,  143.,  143.,  222.,  222.,  202.,\n",
        "        283.,  172.,  270.,  190.,  190.,  342.,  202.,  264.,  154.,\n",
        "        202.,  252.,  252.,  283.,  404.,  229.,  266.,  219.,  404.,\n",
        "        397.,  397.,  265.,  405.,  369.,  398.,  398.,  391.,  615.,  615.])"
       ]
      }
     ],
     "prompt_number": 111
    },
    {
     "cell_type": "code",
     "collapsed": false,
     "input": [
      "average\n",
      "av = []\n",
      "for x in average:\n",
      "    av.append(round(x)) \n",
      "\n"
     ],
     "language": "python",
     "metadata": {},
     "outputs": [],
     "prompt_number": 112
    },
    {
     "cell_type": "code",
     "collapsed": false,
     "input": [
      "dataTrain[mins,-1]"
     ],
     "language": "python",
     "metadata": {},
     "outputs": [
      {
       "metadata": {},
       "output_type": "pyout",
       "prompt_number": 113,
       "text": [
        "array([ 187.,  222.,  222.,  234.,  264.,  154.,  179.,  222.,  168.,\n",
        "        190.,  190.,  202.,  203.,  143.,  143.,  342.,  222.,  202.,\n",
        "        283.,  172.,  234.,  190.,  190.,  202.,  252.,  222.,  154.,\n",
        "        234.,  202.,  220.,  283.,  404.,  223.,  266.,  304.,  404.,\n",
        "        397.,  404.,  265.,  369.,  219.,  322.,  404.,  391.,  615.,  556.])"
       ]
      }
     ],
     "prompt_number": 113
    },
    {
     "cell_type": "code",
     "collapsed": false,
     "input": [
      "plot(diff2, dataTrain[:,-1],'y.', diff2 , intercept + slope*diff2,'g-', num2, result, 'r.', num2, numOrdTest, 'b.')"
     ],
     "language": "python",
     "metadata": {},
     "outputs": [
      {
       "metadata": {},
       "output_type": "pyout",
       "prompt_number": 114,
       "text": [
        "[<matplotlib.lines.Line2D at 0x7f61bca6fed0>,\n",
        " <matplotlib.lines.Line2D at 0x7f61bca7d150>,\n",
        " <matplotlib.lines.Line2D at 0x7f61bca7d810>,\n",
        " <matplotlib.lines.Line2D at 0x7f61bca7de10>]"
       ]
      },
      {
       "metadata": {},
       "output_type": "display_data",
       "png": "[encoded data removed]",
       "text": [
        "<matplotlib.figure.Figure at 0x7f61bcb7b7d0>"
       ]
      }
     ],
     "prompt_number": 114
    },
    {
     "cell_type": "code",
     "collapsed": false,
     "input": [
      "dataTrain"
     ],
     "language": "python",
     "metadata": {},
     "outputs": [
      {
       "metadata": {},
       "output_type": "pyout",
       "prompt_number": 115,
       "text": [
        "array([[  0.00000000e+00,   0.00000000e+00,   3.15789474e-01, ...,\n",
        "          0.00000000e+00,   0.00000000e+00,   1.65000000e+02],\n",
        "       [  1.66666667e-01,   1.00000000e+00,   4.21052632e-01, ...,\n",
        "          0.00000000e+00,   1.00000000e+00,   1.38000000e+02],\n",
        "       [  3.33333333e-01,   1.00000000e+00,   4.73684211e-01, ...,\n",
        "          0.00000000e+00,   0.00000000e+00,   1.27000000e+02],\n",
        "       ..., \n",
        "       [  8.33333333e-01,   1.00000000e+00,   1.00000000e+00, ...,\n",
        "          0.00000000e+00,   0.00000000e+00,   5.70000000e+02],\n",
        "       [  1.00000000e+00,   1.00000000e+00,   1.15789474e+00, ...,\n",
        "          0.00000000e+00,   0.00000000e+00,   6.15000000e+02],\n",
        "       [  0.00000000e+00,   1.00000000e+00,   8.42105263e-01, ...,\n",
        "          0.00000000e+00,   0.00000000e+00,   3.69000000e+02]])"
       ]
      }
     ],
     "prompt_number": 115
    },
    {
     "cell_type": "code",
     "collapsed": false,
     "input": [],
     "language": "python",
     "metadata": {},
     "outputs": [],
     "prompt_number": 115
    },
    {
     "cell_type": "code",
     "collapsed": false,
     "input": [],
     "language": "python",
     "metadata": {},
     "outputs": [],
     "prompt_number": 115
    },
    {
     "cell_type": "code",
     "collapsed": false,
     "input": [],
     "language": "python",
     "metadata": {},
     "outputs": [],
     "prompt_number": 115
    },
    {
     "cell_type": "code",
     "collapsed": false,
     "input": [],
     "language": "python",
     "metadata": {},
     "outputs": [],
     "prompt_number": 115
    },
    {
     "cell_type": "code",
     "collapsed": false,
     "input": [],
     "language": "python",
     "metadata": {},
     "outputs": [],
     "prompt_number": 60
    },
    {
     "cell_type": "code",
     "collapsed": false,
     "input": [],
     "language": "python",
     "metadata": {},
     "outputs": [],
     "prompt_number": 60
    },
    {
     "cell_type": "code",
     "collapsed": false,
     "input": [],
     "language": "python",
     "metadata": {},
     "outputs": [],
     "prompt_number": 60
    },
    {
     "cell_type": "code",
     "collapsed": false,
     "input": [],
     "language": "python",
     "metadata": {},
     "outputs": [],
     "prompt_number": 60
    },
    {
     "cell_type": "code",
     "collapsed": false,
     "input": [],
     "language": "python",
     "metadata": {},
     "outputs": [],
     "prompt_number": 60
    },
    {
     "cell_type": "code",
     "collapsed": false,
     "input": [],
     "language": "python",
     "metadata": {},
     "outputs": [],
     "prompt_number": 60
    },
    {
     "cell_type": "code",
     "collapsed": false,
     "input": [
      "dataTrain[1]"
     ],
     "language": "python",
     "metadata": {},
     "outputs": [
      {
       "metadata": {},
       "output_type": "pyout",
       "prompt_number": 61,
       "text": [
        "array([   1. ,    8. ,   32.8,   22.8,   15.5,    1. ,    0. ,    0. ,\n",
        "          1. ,  138. ])"
       ]
      }
     ],
     "prompt_number": 61
    },
    {
     "cell_type": "code",
     "collapsed": false,
     "input": [
      "test = zeros(( len(dataTest[:,1]),len(dataTest[1])+1))\n",
      "test[:,:-1] = dataTest\n",
      "test[:,-1] = numOrdTest\n",
      "matrix = concatenate((dataTrain, test), axis=0) \n",
      "corrcoef(matrix.T)[-1]\n",
      "#corrcoef(test.T)[-1]"
     ],
     "language": "python",
     "metadata": {},
     "outputs": [
      {
       "metadata": {},
       "output_type": "pyout",
       "prompt_number": 62,
       "text": [
        "array([ 0.17351574,  0.76411276, -0.54706793, -0.51160683,  0.03202563,\n",
        "       -0.03791322,  0.39726342, -0.01212039, -0.05095847,  1.        ])"
       ]
      }
     ],
     "prompt_number": 62
    },
    {
     "cell_type": "code",
     "collapsed": false,
     "input": [
      "def likelihood(matrix):\n",
      "    return sum(((corr[-1]-corrcoef(matrix.T)[-1])*corr[-1,:])**2)"
     ],
     "language": "python",
     "metadata": {},
     "outputs": [],
     "prompt_number": 63
    },
    {
     "cell_type": "code",
     "collapsed": false,
     "input": [
      "likelihood(matrix)"
     ],
     "language": "python",
     "metadata": {},
     "outputs": [
      {
       "metadata": {},
       "output_type": "pyout",
       "prompt_number": 64,
       "text": [
        "0.0035490145603817359"
       ]
      }
     ],
     "prompt_number": 64
    },
    {
     "cell_type": "code",
     "collapsed": false,
     "input": [
      "n = 50000\n",
      "ords_walk = np.zeros((n, len(dataTest[:,0]))) #this is an empty list to keep all the steps\n",
      "l_walk = np.empty((0))\n",
      "ords_walk[0] = numOrdTest\n",
      "\n",
      "test = zeros(( len(dataTest[:,1]),len(dataTest[1])+1))\n",
      "test[:,:-1] = dataTest\n",
      "test[:,-1] = numOrdTest\n",
      "matrix = concatenate((dataTrain, test), axis=0)     \n",
      "    \n",
      "l_init = likelihood(matrix)\n",
      "l_walk = append(l_walk, l_init)   \n",
      " \n",
      "\n",
      "for i in range(n-1):\n",
      "    ords_prime = []\n",
      "    for j in range(len(ords_walk[i])):\n",
      "        ords_prime.append(random.normal(ords_walk[i,j], 8))\n",
      "        \n",
      "    test[:,-1] = ords_prime\n",
      "    matrix = concatenate((dataTrain, test), axis=0)     \n",
      "    \n",
      "    l_prime = likelihood(matrix)\n",
      "        \n",
      "    alpha = l_init/l_prime\n",
      "    if(alpha>=1.0):\n",
      "        ords_walk[i+1] = ords_prime\n",
      "        l_walk = append(l_walk, l_prime)            \n",
      "    else:\n",
      "        beta = np.random.random()\n",
      "        if(beta<=alpha):\n",
      "            ords_walk[i+1] = ords_prime\n",
      "            l_walk = append(l_walk, l_prime) \n",
      "        else:\n",
      "            ords_walk[i+1] = ords_walk[i]\n",
      "            l_walk = append(l_walk, l_init)    \n",
      "    l_init = l_prime        \n"
     ],
     "language": "python",
     "metadata": {},
     "outputs": [],
     "prompt_number": 65
    },
    {
     "cell_type": "code",
     "collapsed": false,
     "input": [
      "min(l_walk)"
     ],
     "language": "python",
     "metadata": {},
     "outputs": [
      {
       "metadata": {},
       "output_type": "pyout",
       "prompt_number": 66,
       "text": [
        "0.002117451332052878"
       ]
      }
     ],
     "prompt_number": 66
    },
    {
     "cell_type": "code",
     "collapsed": false,
     "input": [
      "len(ords_walk[:,1])"
     ],
     "language": "python",
     "metadata": {},
     "outputs": [
      {
       "metadata": {},
       "output_type": "pyout",
       "prompt_number": 67,
       "text": [
        "50000"
       ]
      }
     ],
     "prompt_number": 67
    },
    {
     "cell_type": "code",
     "collapsed": false,
     "input": [
      "scatter(ords_walk[:,3], l_walk)"
     ],
     "language": "python",
     "metadata": {},
     "outputs": [
      {
       "metadata": {},
       "output_type": "pyout",
       "prompt_number": 68,
       "text": [
        "<matplotlib.collections.PathCollection at 0x7f655cde0890>"
       ]
      },
      {
       "metadata": {},
       "output_type": "display_data",
       "png": "[encoded data removed]",
       "text": [
        "<matplotlib.figure.Figure at 0x7f655cbbbb90>"
       ]
      }
     ],
     "prompt_number": 68
    },
    {
     "cell_type": "code",
     "collapsed": false,
     "input": [
      "min(l_walk)"
     ],
     "language": "python",
     "metadata": {},
     "outputs": [
      {
       "metadata": {},
       "output_type": "pyout",
       "prompt_number": 69,
       "text": [
        "0.002117451332052878"
       ]
      }
     ],
     "prompt_number": 69
    },
    {
     "cell_type": "code",
     "collapsed": false,
     "input": [
      "ords_walk[argmin(l_walk)]"
     ],
     "language": "python",
     "metadata": {},
     "outputs": [
      {
       "metadata": {},
       "output_type": "pyout",
       "prompt_number": 70,
       "text": [
        "array([ 241.17727452,  138.01208919,  266.00729572,  230.83720252,\n",
        "        253.0297224 ,  216.44556881,   80.38938893,  394.7266205 ,\n",
        "        163.03911507,   86.83546918,  209.81845493,  219.20030702,\n",
        "         88.17618056,  201.01494067,   86.62053492,  438.25967883,\n",
        "        167.99769304,  102.22953697,  235.25410607,  181.68672299,\n",
        "        275.88332618,  236.99055922,  339.25960805,  178.81419884,\n",
        "        287.57403803,  349.54410053,  182.53517347,   26.93557749,\n",
        "        192.60668808,  230.76417766,  306.14219325,  339.20079677,\n",
        "        279.83534856,  390.20424499,  353.34867344,  287.11688454,\n",
        "        307.84987155,  423.9876207 ,  162.58322347,  317.27341199,\n",
        "        234.71574337,  486.7174255 ,  493.71809106,  330.54657643,\n",
        "        657.85557423,  583.12154514])"
       ]
      }
     ],
     "prompt_number": 70
    },
    {
     "cell_type": "code",
     "collapsed": false,
     "input": [
      "argmin(l_walk)\n",
      "ords_walk[argmin(l_walk)]\n",
      "test[:,-1] = ords_walk[argmin(l_walk)]\n",
      "matrix = concatenate((dataTrain, test), axis=0)    \n",
      "likelihood(matrix)\n",
      "result1 = ords_walk[argmin(l_walk)]\n",
      "ords_walk[argmin(l_walk)]\n"
     ],
     "language": "python",
     "metadata": {},
     "outputs": [
      {
       "metadata": {},
       "output_type": "pyout",
       "prompt_number": 71,
       "text": [
        "array([ 241.17727452,  138.01208919,  266.00729572,  230.83720252,\n",
        "        253.0297224 ,  216.44556881,   80.38938893,  394.7266205 ,\n",
        "        163.03911507,   86.83546918,  209.81845493,  219.20030702,\n",
        "         88.17618056,  201.01494067,   86.62053492,  438.25967883,\n",
        "        167.99769304,  102.22953697,  235.25410607,  181.68672299,\n",
        "        275.88332618,  236.99055922,  339.25960805,  178.81419884,\n",
        "        287.57403803,  349.54410053,  182.53517347,   26.93557749,\n",
        "        192.60668808,  230.76417766,  306.14219325,  339.20079677,\n",
        "        279.83534856,  390.20424499,  353.34867344,  287.11688454,\n",
        "        307.84987155,  423.9876207 ,  162.58322347,  317.27341199,\n",
        "        234.71574337,  486.7174255 ,  493.71809106,  330.54657643,\n",
        "        657.85557423,  583.12154514])"
       ]
      }
     ],
     "prompt_number": 71
    },
    {
     "cell_type": "code",
     "collapsed": false,
     "input": [
      "ords_walk[0]"
     ],
     "language": "python",
     "metadata": {},
     "outputs": [
      {
       "metadata": {},
       "output_type": "pyout",
       "prompt_number": 72,
       "text": [
        "array([ 187.,  222.,  270.,  234.,  264.,  154.,  179.,  265.,  168.,\n",
        "        190.,  190.,  202.,  203.,  143.,  187.,  342.,  270.,  202.,\n",
        "        195.,  172.,  168.,  190.,  190.,  202.,  252.,  202.,  154.,\n",
        "        234.,  202.,  220.,  283.,  404.,  223.,  327.,  304.,  404.,\n",
        "        397.,  404.,  265.,  369.,  322.,  322.,  404.,  391.,  615.,  556.])"
       ]
      }
     ],
     "prompt_number": 72
    },
    {
     "cell_type": "code",
     "collapsed": false,
     "input": [
      "r1 = []\n",
      "for x in result1:\n",
      "    r1.append(round(x)) \n",
      "r1    "
     ],
     "language": "python",
     "metadata": {},
     "outputs": [
      {
       "metadata": {},
       "output_type": "pyout",
       "prompt_number": 73,
       "text": [
        "[241.0,\n",
        " 138.0,\n",
        " 266.0,\n",
        " 231.0,\n",
        " 253.0,\n",
        " 216.0,\n",
        " 80.0,\n",
        " 395.0,\n",
        " 163.0,\n",
        " 87.0,\n",
        " 210.0,\n",
        " 219.0,\n",
        " 88.0,\n",
        " 201.0,\n",
        " 87.0,\n",
        " 438.0,\n",
        " 168.0,\n",
        " 102.0,\n",
        " 235.0,\n",
        " 182.0,\n",
        " 276.0,\n",
        " 237.0,\n",
        " 339.0,\n",
        " 179.0,\n",
        " 288.0,\n",
        " 350.0,\n",
        " 183.0,\n",
        " 27.0,\n",
        " 193.0,\n",
        " 231.0,\n",
        " 306.0,\n",
        " 339.0,\n",
        " 280.0,\n",
        " 390.0,\n",
        " 353.0,\n",
        " 287.0,\n",
        " 308.0,\n",
        " 424.0,\n",
        " 163.0,\n",
        " 317.0,\n",
        " 235.0,\n",
        " 487.0,\n",
        " 494.0,\n",
        " 331.0,\n",
        " 658.0,\n",
        " 583.0]"
       ]
      }
     ],
     "prompt_number": 73
    },
    {
     "cell_type": "code",
     "collapsed": false,
     "input": [
      "fh = open('sample.csv', 'w')\n",
      "fh.write('fecha'+ ','+ 'conteo_ordenes' + '\\n')\n",
      "for i in range(len(text)-1):\n",
      "        x = text[i+1] \n",
      "        a = x.split(',')\n",
      "        fh.write(a[0]+ ','+ repr(numOrdTest[i])  + '\\n')\n",
      "fh.close()   "
     ],
     "language": "python",
     "metadata": {},
     "outputs": [],
     "prompt_number": 118
    },
    {
     "cell_type": "code",
     "collapsed": false,
     "input": [
      "eig(corr)"
     ],
     "language": "python",
     "metadata": {},
     "outputs": [
      {
       "metadata": {},
       "output_type": "pyout",
       "prompt_number": 75,
       "text": [
        "(array([ 3.32532721,  1.8058677 ,  1.38697328,  0.04940347,  0.16175501,\n",
        "        0.35345004,  0.38851772,  0.97561947,  0.85900665,  0.69407945]),\n",
        " array([[ -1.42376944e-01,   1.55761741e-01,  -6.80208343e-01,\n",
        "          7.60325417e-02,   3.27561261e-01,  -3.53354761e-01,\n",
        "         -3.20713095e-01,  -3.56660266e-01,  -1.55874666e-01,\n",
        "         -2.20552951e-02],\n",
        "       [  4.59081009e-01,   1.56439353e-01,  -1.60852400e-01,\n",
        "          1.08971393e-01,   5.88941872e-01,   4.98395321e-01,\n",
        "          2.37502365e-01,   3.58206128e-02,  -9.22577187e-03,\n",
        "          2.72024021e-01],\n",
        "       [ -5.06936820e-01,   2.11234302e-02,  -1.39864613e-01,\n",
        "         -7.06845791e-01,   1.00977237e-01,   3.94740827e-01,\n",
        "          1.81539564e-01,  -1.47624902e-01,   3.63956053e-02,\n",
        "         -3.58425913e-02],\n",
        "       [ -5.02797482e-01,   8.25567776e-02,  -1.33388019e-01,\n",
        "          6.76208642e-01,  -1.79902122e-01,   4.17000149e-01,\n",
        "          1.96997774e-01,  -1.17954135e-01,   6.13356564e-03,\n",
        "         -7.94717540e-02],\n",
        "       [ -4.38024042e-02,   5.93406489e-01,   1.97948627e-01,\n",
        "         -4.08132261e-02,   2.92477694e-04,   2.91432092e-01,\n",
        "         -6.12105225e-01,   2.58712204e-01,  -2.18481774e-01,\n",
        "         -1.75581504e-01],\n",
        "       [ -1.28328285e-01,   6.00111755e-01,   1.47043922e-01,\n",
        "         -1.71403457e-02,   9.07244796e-02,  -4.08202109e-01,\n",
        "          5.88612311e-01,   1.03706822e-01,  -2.62703409e-01,\n",
        "         -1.97356261e-02],\n",
        "       [  2.70733071e-01,   2.00086449e-01,   5.26837584e-02,\n",
        "         -8.02364624e-03,   4.39526583e-02,   3.79185129e-02,\n",
        "          1.03184344e-01,  -3.65641674e-01,   4.52696363e-01,\n",
        "         -7.28824101e-01],\n",
        "       [ -8.92062614e-03,   2.36045738e-01,   4.04934937e-01,\n",
        "          8.75420840e-03,  -7.18521848e-02,  -1.09172003e-02,\n",
        "         -1.35477499e-01,  -6.92558751e-01,   1.46898588e-01,\n",
        "          5.05273193e-01],\n",
        "       [ -1.73464336e-01,   2.56824053e-01,  -1.67757957e-01,\n",
        "          1.72888107e-02,   3.03337986e-02,  -1.47855078e-01,\n",
        "         -6.81233618e-02,   3.77225293e-01,   7.91793579e-01,\n",
        "          2.80805709e-01],\n",
        "       [  3.70581352e-01,   2.64626223e-01,  -4.67324785e-01,\n",
        "         -1.51841229e-01,  -6.97885511e-01,   1.48503613e-01,\n",
        "          1.19129291e-01,  -4.98654235e-02,  -6.37030839e-02,\n",
        "          1.46151528e-01]]))"
       ]
      }
     ],
     "prompt_number": 75
    },
    {
     "cell_type": "code",
     "collapsed": false,
     "input": [],
     "language": "python",
     "metadata": {},
     "outputs": [],
     "prompt_number": 31
    },
    {
     "cell_type": "code",
     "collapsed": false,
     "input": [],
     "language": "python",
     "metadata": {},
     "outputs": []
    }
   ],
   "metadata": {}
  }
 ]
}